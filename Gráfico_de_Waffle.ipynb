{
  "nbformat": 4,
  "nbformat_minor": 0,
  "metadata": {
    "colab": {
      "name": "Gráfico de Waffle.ipynb",
      "provenance": [],
      "authorship_tag": "ABX9TyPoRq8wURXRUyIO0IXidY6i",
      "include_colab_link": true
    },
    "kernelspec": {
      "name": "python3",
      "display_name": "Python 3"
    },
    "language_info": {
      "name": "python"
    }
  },
  "cells": [
    {
      "cell_type": "markdown",
      "metadata": {
        "id": "view-in-github",
        "colab_type": "text"
      },
      "source": [
        "<a href=\"https://colab.research.google.com/github/raulpacheco2k/Sigmoidal-Python-Do-Zero/blob/main/Gr%C3%A1fico_de_Waffle.ipynb\" target=\"_parent\"><img src=\"https://colab.research.google.com/assets/colab-badge.svg\" alt=\"Open In Colab\"/></a>"
      ]
    },
    {
      "cell_type": "markdown",
      "metadata": {
        "id": "zCIkygl48Hup"
      },
      "source": [
        "# Gráfico de Waffle"
      ]
    },
    {
      "cell_type": "markdown",
      "metadata": {
        "id": "aZ8JErb7EOug"
      },
      "source": [
        "### Instalando as bibliotecas necessárias"
      ]
    },
    {
      "cell_type": "code",
      "metadata": {
        "colab": {
          "base_uri": "https://localhost:8080/"
        },
        "id": "OhMs1v3l6EML",
        "outputId": "7ae759b2-cdc4-4f8e-c1fa-32263dcdf9bf"
      },
      "source": [
        "!pip install pywaffle"
      ],
      "execution_count": 6,
      "outputs": [
        {
          "output_type": "stream",
          "text": [
            "Collecting pywaffle\n",
            "\u001b[?25l  Downloading https://files.pythonhosted.org/packages/e2/93/9a1e014fef383149b0f6dccdb8b2f2126d8827d4d48f2884949d6f8769ea/pywaffle-0.6.1-py2.py3-none-any.whl (526kB)\n",
            "\r\u001b[K     |▋                               | 10kB 14.7MB/s eta 0:00:01\r\u001b[K     |█▎                              | 20kB 19.3MB/s eta 0:00:01\r\u001b[K     |█▉                              | 30kB 23.7MB/s eta 0:00:01\r\u001b[K     |██▌                             | 40kB 22.9MB/s eta 0:00:01\r\u001b[K     |███                             | 51kB 8.4MB/s eta 0:00:01\r\u001b[K     |███▊                            | 61kB 8.8MB/s eta 0:00:01\r\u001b[K     |████▍                           | 71kB 8.7MB/s eta 0:00:01\r\u001b[K     |█████                           | 81kB 9.1MB/s eta 0:00:01\r\u001b[K     |█████▋                          | 92kB 8.8MB/s eta 0:00:01\r\u001b[K     |██████▏                         | 102kB 7.9MB/s eta 0:00:01\r\u001b[K     |██████▉                         | 112kB 7.9MB/s eta 0:00:01\r\u001b[K     |███████▌                        | 122kB 7.9MB/s eta 0:00:01\r\u001b[K     |████████                        | 133kB 7.9MB/s eta 0:00:01\r\u001b[K     |████████▊                       | 143kB 7.9MB/s eta 0:00:01\r\u001b[K     |█████████▎                      | 153kB 7.9MB/s eta 0:00:01\r\u001b[K     |██████████                      | 163kB 7.9MB/s eta 0:00:01\r\u001b[K     |██████████▋                     | 174kB 7.9MB/s eta 0:00:01\r\u001b[K     |███████████▏                    | 184kB 7.9MB/s eta 0:00:01\r\u001b[K     |███████████▉                    | 194kB 7.9MB/s eta 0:00:01\r\u001b[K     |████████████▍                   | 204kB 7.9MB/s eta 0:00:01\r\u001b[K     |█████████████                   | 215kB 7.9MB/s eta 0:00:01\r\u001b[K     |█████████████▊                  | 225kB 7.9MB/s eta 0:00:01\r\u001b[K     |██████████████▎                 | 235kB 7.9MB/s eta 0:00:01\r\u001b[K     |███████████████                 | 245kB 7.9MB/s eta 0:00:01\r\u001b[K     |███████████████▌                | 256kB 7.9MB/s eta 0:00:01\r\u001b[K     |████████████████▏               | 266kB 7.9MB/s eta 0:00:01\r\u001b[K     |████████████████▉               | 276kB 7.9MB/s eta 0:00:01\r\u001b[K     |█████████████████▍              | 286kB 7.9MB/s eta 0:00:01\r\u001b[K     |██████████████████              | 296kB 7.9MB/s eta 0:00:01\r\u001b[K     |██████████████████▋             | 307kB 7.9MB/s eta 0:00:01\r\u001b[K     |███████████████████▎            | 317kB 7.9MB/s eta 0:00:01\r\u001b[K     |████████████████████            | 327kB 7.9MB/s eta 0:00:01\r\u001b[K     |████████████████████▌           | 337kB 7.9MB/s eta 0:00:01\r\u001b[K     |█████████████████████▏          | 348kB 7.9MB/s eta 0:00:01\r\u001b[K     |█████████████████████▊          | 358kB 7.9MB/s eta 0:00:01\r\u001b[K     |██████████████████████▍         | 368kB 7.9MB/s eta 0:00:01\r\u001b[K     |███████████████████████         | 378kB 7.9MB/s eta 0:00:01\r\u001b[K     |███████████████████████▋        | 389kB 7.9MB/s eta 0:00:01\r\u001b[K     |████████████████████████▎       | 399kB 7.9MB/s eta 0:00:01\r\u001b[K     |████████████████████████▉       | 409kB 7.9MB/s eta 0:00:01\r\u001b[K     |█████████████████████████▌      | 419kB 7.9MB/s eta 0:00:01\r\u001b[K     |██████████████████████████▏     | 430kB 7.9MB/s eta 0:00:01\r\u001b[K     |██████████████████████████▊     | 440kB 7.9MB/s eta 0:00:01\r\u001b[K     |███████████████████████████▍    | 450kB 7.9MB/s eta 0:00:01\r\u001b[K     |████████████████████████████    | 460kB 7.9MB/s eta 0:00:01\r\u001b[K     |████████████████████████████▋   | 471kB 7.9MB/s eta 0:00:01\r\u001b[K     |█████████████████████████████▎  | 481kB 7.9MB/s eta 0:00:01\r\u001b[K     |█████████████████████████████▉  | 491kB 7.9MB/s eta 0:00:01\r\u001b[K     |██████████████████████████████▌ | 501kB 7.9MB/s eta 0:00:01\r\u001b[K     |███████████████████████████████ | 512kB 7.9MB/s eta 0:00:01\r\u001b[K     |███████████████████████████████▊| 522kB 7.9MB/s eta 0:00:01\r\u001b[K     |████████████████████████████████| 532kB 7.9MB/s \n",
            "\u001b[?25hRequirement already satisfied: matplotlib in /usr/local/lib/python3.7/dist-packages (from pywaffle) (3.2.2)\n",
            "Requirement already satisfied: python-dateutil>=2.1 in /usr/local/lib/python3.7/dist-packages (from matplotlib->pywaffle) (2.8.1)\n",
            "Requirement already satisfied: kiwisolver>=1.0.1 in /usr/local/lib/python3.7/dist-packages (from matplotlib->pywaffle) (1.3.1)\n",
            "Requirement already satisfied: numpy>=1.11 in /usr/local/lib/python3.7/dist-packages (from matplotlib->pywaffle) (1.19.5)\n",
            "Requirement already satisfied: cycler>=0.10 in /usr/local/lib/python3.7/dist-packages (from matplotlib->pywaffle) (0.10.0)\n",
            "Requirement already satisfied: pyparsing!=2.0.4,!=2.1.2,!=2.1.6,>=2.0.1 in /usr/local/lib/python3.7/dist-packages (from matplotlib->pywaffle) (2.4.7)\n",
            "Requirement already satisfied: six>=1.5 in /usr/local/lib/python3.7/dist-packages (from python-dateutil>=2.1->matplotlib->pywaffle) (1.15.0)\n",
            "Installing collected packages: pywaffle\n",
            "Successfully installed pywaffle-0.6.1\n"
          ],
          "name": "stdout"
        }
      ]
    },
    {
      "cell_type": "markdown",
      "metadata": {
        "id": "Sl8XqmjbESdC"
      },
      "source": [
        "### Importanto as bibliotecas"
      ]
    },
    {
      "cell_type": "code",
      "metadata": {
        "id": "kgbaORux6HuU"
      },
      "source": [
        "import pandas as pd\n",
        "from pywaffle import Waffle\n",
        "import matplotlib.pyplot as plt"
      ],
      "execution_count": 10,
      "outputs": []
    },
    {
      "cell_type": "markdown",
      "metadata": {
        "id": "uXwNuLu5EVGu"
      },
      "source": [
        "### Importando os dados"
      ]
    },
    {
      "cell_type": "code",
      "metadata": {
        "id": "oYyW3iKA5uR3"
      },
      "source": [
        "df = pd.read_csv('/content/Pesquisa salarial desenvolvedor PHP.csv')"
      ],
      "execution_count": 48,
      "outputs": []
    },
    {
      "cell_type": "markdown",
      "metadata": {
        "id": "UHNVAS--EW_5"
      },
      "source": [
        "### Visualizando a prévia dos dados"
      ]
    },
    {
      "cell_type": "code",
      "metadata": {
        "colab": {
          "base_uri": "https://localhost:8080/",
          "height": 204
        },
        "id": "557FmI_t54Di",
        "outputId": "d098000d-fc91-4691-da3b-b4745698e926"
      },
      "source": [
        "df.head()"
      ],
      "execution_count": 139,
      "outputs": [
        {
          "output_type": "execute_result",
          "data": {
            "text/html": [
              "<div>\n",
              "<style scoped>\n",
              "    .dataframe tbody tr th:only-of-type {\n",
              "        vertical-align: middle;\n",
              "    }\n",
              "\n",
              "    .dataframe tbody tr th {\n",
              "        vertical-align: top;\n",
              "    }\n",
              "\n",
              "    .dataframe thead th {\n",
              "        text-align: right;\n",
              "    }\n",
              "</style>\n",
              "<table border=\"1\" class=\"dataframe\">\n",
              "  <thead>\n",
              "    <tr style=\"text-align: right;\">\n",
              "      <th></th>\n",
              "      <th>Carimbo de data/hora</th>\n",
              "      <th>Cargo</th>\n",
              "      <th>Formação acadêmica</th>\n",
              "      <th>Estado de residência</th>\n",
              "      <th>Salário</th>\n",
              "    </tr>\n",
              "  </thead>\n",
              "  <tbody>\n",
              "    <tr>\n",
              "      <th>0</th>\n",
              "      <td>2021/07/04 7:04:08 PM GMT-3</td>\n",
              "      <td>Desenvolvedor Júnior</td>\n",
              "      <td>Sem ensino superior</td>\n",
              "      <td>Amazonas</td>\n",
              "      <td>R$ 1.000,00 - R$ 1.499,99</td>\n",
              "    </tr>\n",
              "    <tr>\n",
              "      <th>1</th>\n",
              "      <td>2021/07/04 6:21:02 PM GMT-3</td>\n",
              "      <td>Desenvolvedor Júnior</td>\n",
              "      <td>NaN</td>\n",
              "      <td>Santa Catarina</td>\n",
              "      <td>R$ 1.500,00 - R$ 1.999,99</td>\n",
              "    </tr>\n",
              "    <tr>\n",
              "      <th>2</th>\n",
              "      <td>2021/07/06 12:19:09 AM GMT-3</td>\n",
              "      <td>Desenvolvedor Júnior</td>\n",
              "      <td>Sem ensino superior</td>\n",
              "      <td>São Paulo</td>\n",
              "      <td>R$ 1.500,00 - R$ 1.999,99</td>\n",
              "    </tr>\n",
              "    <tr>\n",
              "      <th>3</th>\n",
              "      <td>2021/07/07 12:42:08 PM GMT-3</td>\n",
              "      <td>Desenvolvedor Júnior</td>\n",
              "      <td>Ensino médio</td>\n",
              "      <td>Rio de Janeiro</td>\n",
              "      <td>R$ 2.000,00 - R$ 2.499,99</td>\n",
              "    </tr>\n",
              "    <tr>\n",
              "      <th>4</th>\n",
              "      <td>2021/07/07 9:30:48 AM GMT-3</td>\n",
              "      <td>Desenvolver Pleno</td>\n",
              "      <td>Graduado</td>\n",
              "      <td>Minas Gerais</td>\n",
              "      <td>R$ 2.500,00 - R$ 2.999,99</td>\n",
              "    </tr>\n",
              "  </tbody>\n",
              "</table>\n",
              "</div>"
            ],
            "text/plain": [
              "           Carimbo de data/hora  ...                    Salário\n",
              "0   2021/07/04 7:04:08 PM GMT-3  ...  R$ 1.000,00 - R$ 1.499,99\n",
              "1   2021/07/04 6:21:02 PM GMT-3  ...  R$ 1.500,00 - R$ 1.999,99\n",
              "2  2021/07/06 12:19:09 AM GMT-3  ...  R$ 1.500,00 - R$ 1.999,99\n",
              "3  2021/07/07 12:42:08 PM GMT-3  ...  R$ 2.000,00 - R$ 2.499,99\n",
              "4   2021/07/07 9:30:48 AM GMT-3  ...  R$ 2.500,00 - R$ 2.999,99\n",
              "\n",
              "[5 rows x 5 columns]"
            ]
          },
          "metadata": {
            "tags": []
          },
          "execution_count": 139
        }
      ]
    },
    {
      "cell_type": "markdown",
      "metadata": {
        "id": "19wfFcyLEcdl"
      },
      "source": [
        "### Tratando os dados"
      ]
    },
    {
      "cell_type": "code",
      "metadata": {
        "id": "6qNrcsBv6gX7"
      },
      "source": [
        "data = dict(df['Cargo'].value_counts())"
      ],
      "execution_count": 50,
      "outputs": []
    },
    {
      "cell_type": "markdown",
      "metadata": {
        "id": "13n1zmGOEfWU"
      },
      "source": [
        "### Exibindo os dados"
      ]
    },
    {
      "cell_type": "code",
      "metadata": {
        "colab": {
          "base_uri": "https://localhost:8080/",
          "height": 138
        },
        "id": "ntIKV_Mn6MzE",
        "outputId": "2fc392d8-fe14-4f6b-e9eb-0ef0c4aba954"
      },
      "source": [
        "\n",
        "fig = plt.figure(\n",
        "                FigureClass=Waffle,\n",
        "                rows=3,\n",
        "                columns=9,\n",
        "                values=data,\n",
        "                legend={'loc': 'upper left',\n",
        "                        'bbox_to_anchor': (1.1, 1.)}\n",
        "                )\n",
        "\n",
        "fig.set_tight_layout(False)\n",
        "plt.show()"
      ],
      "execution_count": 140,
      "outputs": [
        {
          "output_type": "display_data",
          "data": {
            "image/png": "[encoded data removed]",
            "text/plain": [
              "<Waffle size 432x288 with 1 Axes>"
            ]
          },
          "metadata": {
            "tags": [],
            "needs_background": "light"
          }
        }
      ]
    }
  ]
}