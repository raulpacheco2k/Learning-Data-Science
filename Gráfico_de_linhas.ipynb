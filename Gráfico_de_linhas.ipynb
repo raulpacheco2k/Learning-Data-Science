{
  "nbformat": 4,
  "nbformat_minor": 0,
  "metadata": {
    "colab": {
      "name": "Gráfico de linhas.ipynb",
      "provenance": [],
      "collapsed_sections": [],
      "authorship_tag": "ABX9TyNZammKf+kxIZVN/whZxINt",
      "include_colab_link": true
    },
    "kernelspec": {
      "name": "python3",
      "display_name": "Python 3"
    },
    "language_info": {
      "name": "python"
    }
  },
  "cells": [
    {
      "cell_type": "markdown",
      "metadata": {
        "id": "view-in-github",
        "colab_type": "text"
      },
      "source": [
        "<a href=\"https://colab.research.google.com/github/raulpacheco2k/Sigmoidal-Python-Do-Zero/blob/main/Gr%C3%A1fico_de_linhas.ipynb\" target=\"_parent\"><img src=\"https://colab.research.google.com/assets/colab-badge.svg\" alt=\"Open In Colab\"/></a>"
      ]
    },
    {
      "cell_type": "markdown",
      "metadata": {
        "id": "Z-YnJP4P4mlv"
      },
      "source": [
        "# Gráfico de linhas\n",
        "Gráfico de linhas é o tipo mais básico de gráfico que tempos, serve para a maioria dos problemas que desejamos resolver."
      ]
    },
    {
      "cell_type": "markdown",
      "metadata": {
        "id": "UGEpjJyP47AI"
      },
      "source": [
        "### Importando as bibliotecas que vamos trabalhar"
      ]
    },
    {
      "cell_type": "code",
      "metadata": {
        "id": "52T1HFyxYqg3"
      },
      "source": [
        "import pandas as pd\n",
        "import matplotlib.pyplot as plt"
      ],
      "execution_count": 189,
      "outputs": []
    },
    {
      "cell_type": "markdown",
      "metadata": {
        "id": "GwepiNrY4-yG"
      },
      "source": [
        "### Importando o dataset"
      ]
    },
    {
      "cell_type": "code",
      "metadata": {
        "id": "717oE_5S4XWE"
      },
      "source": [
        "data = pd.read_csv('https://raw.githubusercontent.com/carlosfab/dsnp2/master/datasets/dengue-dataset.csv')"
      ],
      "execution_count": 190,
      "outputs": []
    },
    {
      "cell_type": "markdown",
      "metadata": {
        "id": "blrq5Mqx5Cm_"
      },
      "source": [
        "### Tratando os dados\n",
        "Perceba que a nossa coluna *data* está sendo reconhecida por um tipo de dado que não desejamos, para manipular os dados com mais pratidade devemos converter a coluna de data para a estrutura de dado datatime através da função `to_datatime()` da biblioteca do Pandas."
      ]
    },
    {
      "cell_type": "code",
      "metadata": {
        "colab": {
          "base_uri": "https://localhost:8080/"
        },
        "id": "062aj8wH5MOZ",
        "outputId": "a63fb7fe-e08a-438b-8333-9ad8e19a76b4"
      },
      "source": [
        "data.dtypes"
      ],
      "execution_count": 191,
      "outputs": [
        {
          "output_type": "execute_result",
          "data": {
            "text/plain": [
              "data                     object\n",
              "casos-confirmados         int64\n",
              "chuva                   float64\n",
              "temperatura-media       float64\n",
              "temperatura-mininima    float64\n",
              "temperatura-maxima      float64\n",
              "dtype: object"
            ]
          },
          "metadata": {
            "tags": []
          },
          "execution_count": 191
        }
      ]
    },
    {
      "cell_type": "code",
      "metadata": {
        "id": "_2ksIJj84kNk"
      },
      "source": [
        "data['data'] = pd.to_datetime(data['data'])"
      ],
      "execution_count": 192,
      "outputs": []
    },
    {
      "cell_type": "code",
      "metadata": {
        "colab": {
          "base_uri": "https://localhost:8080/"
        },
        "id": "RQ8pKyPK5PbY",
        "outputId": "c65aa474-c384-4fae-e74b-2427f55b637c"
      },
      "source": [
        "data.dtypes"
      ],
      "execution_count": 193,
      "outputs": [
        {
          "output_type": "execute_result",
          "data": {
            "text/plain": [
              "data                    datetime64[ns]\n",
              "casos-confirmados                int64\n",
              "chuva                          float64\n",
              "temperatura-media              float64\n",
              "temperatura-mininima           float64\n",
              "temperatura-maxima             float64\n",
              "dtype: object"
            ]
          },
          "metadata": {
            "tags": []
          },
          "execution_count": 193
        }
      ]
    },
    {
      "cell_type": "markdown",
      "metadata": {
        "id": "0d0lbAeZ5FMZ"
      },
      "source": [
        "### Visualizando os dados\n",
        "Após o tratamento dos dados podemos visualizar uma prévia dos dados utilizando a função `head()` da variável que armazena os dados, irá exibir o cabeçalho do CSV importado e as cinco primeiras linhas."
      ]
    },
    {
      "cell_type": "code",
      "metadata": {
        "colab": {
          "base_uri": "https://localhost:8080/",
          "height": 201
        },
        "id": "ebdFc5p44fR0",
        "outputId": "11becfd2-0e15-44f5-fa02-8bc033765e1d"
      },
      "source": [
        "data.head()"
      ],
      "execution_count": 194,
      "outputs": [
        {
          "output_type": "execute_result",
          "data": {
            "text/html": [
              "<div>\n",
              "<style scoped>\n",
              "    .dataframe tbody tr th:only-of-type {\n",
              "        vertical-align: middle;\n",
              "    }\n",
              "\n",
              "    .dataframe tbody tr th {\n",
              "        vertical-align: top;\n",
              "    }\n",
              "\n",
              "    .dataframe thead th {\n",
              "        text-align: right;\n",
              "    }\n",
              "</style>\n",
              "<table border=\"1\" class=\"dataframe\">\n",
              "  <thead>\n",
              "    <tr style=\"text-align: right;\">\n",
              "      <th></th>\n",
              "      <th>data</th>\n",
              "      <th>casos-confirmados</th>\n",
              "      <th>chuva</th>\n",
              "      <th>temperatura-media</th>\n",
              "      <th>temperatura-mininima</th>\n",
              "      <th>temperatura-maxima</th>\n",
              "    </tr>\n",
              "  </thead>\n",
              "  <tbody>\n",
              "    <tr>\n",
              "      <th>0</th>\n",
              "      <td>1998-01-01</td>\n",
              "      <td>237</td>\n",
              "      <td>179.2</td>\n",
              "      <td>25.7</td>\n",
              "      <td>20.2</td>\n",
              "      <td>28.1</td>\n",
              "    </tr>\n",
              "    <tr>\n",
              "      <th>1</th>\n",
              "      <td>1998-02-01</td>\n",
              "      <td>331</td>\n",
              "      <td>226.3</td>\n",
              "      <td>25.1</td>\n",
              "      <td>20.0</td>\n",
              "      <td>28.0</td>\n",
              "    </tr>\n",
              "    <tr>\n",
              "      <th>2</th>\n",
              "      <td>1998-03-01</td>\n",
              "      <td>562</td>\n",
              "      <td>149.1</td>\n",
              "      <td>24.8</td>\n",
              "      <td>22.4</td>\n",
              "      <td>27.2</td>\n",
              "    </tr>\n",
              "    <tr>\n",
              "      <th>3</th>\n",
              "      <td>1998-04-01</td>\n",
              "      <td>187</td>\n",
              "      <td>46.4</td>\n",
              "      <td>22.7</td>\n",
              "      <td>18.1</td>\n",
              "      <td>26.0</td>\n",
              "    </tr>\n",
              "    <tr>\n",
              "      <th>4</th>\n",
              "      <td>1998-05-01</td>\n",
              "      <td>32</td>\n",
              "      <td>88.3</td>\n",
              "      <td>19.2</td>\n",
              "      <td>15.7</td>\n",
              "      <td>22.9</td>\n",
              "    </tr>\n",
              "  </tbody>\n",
              "</table>\n",
              "</div>"
            ],
            "text/plain": [
              "        data  casos-confirmados  ...  temperatura-mininima  temperatura-maxima\n",
              "0 1998-01-01                237  ...                  20.2                28.1\n",
              "1 1998-02-01                331  ...                  20.0                28.0\n",
              "2 1998-03-01                562  ...                  22.4                27.2\n",
              "3 1998-04-01                187  ...                  18.1                26.0\n",
              "4 1998-05-01                 32  ...                  15.7                22.9\n",
              "\n",
              "[5 rows x 6 columns]"
            ]
          },
          "metadata": {
            "tags": []
          },
          "execution_count": 194
        }
      ]
    },
    {
      "cell_type": "markdown",
      "metadata": {
        "id": "nKdsw7fd5Hc_"
      },
      "source": [
        "### Exibindo os dados"
      ]
    },
    {
      "cell_type": "code",
      "metadata": {
        "colab": {
          "base_uri": "https://localhost:8080/",
          "height": 294
        },
        "id": "NI_aVPk_4Z9-",
        "outputId": "b6a19f0e-ab1b-468a-8f4d-deb84c567a66"
      },
      "source": [
        "plt.plot('data', 'casos-confirmados', data=data)\n",
        "\n",
        "plt.title('Dengue em Campinas - SP')\n",
        "plt.xlabel('Data')\n",
        "plt.ylabel('Casos confirmados')\n",
        "plt.show()"
      ],
      "execution_count": 221,
      "outputs": [
        {
          "output_type": "display_data",
          "data": {
            "image/png": "[encoded data removed]",
            "text/plain": [
              "<Figure size 432x288 with 1 Axes>"
            ]
          },
          "metadata": {
            "tags": [],
            "needs_background": "light"
          }
        }
      ]
    }
  ]
}