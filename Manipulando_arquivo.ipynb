{
  "nbformat": 4,
  "nbformat_minor": 0,
  "metadata": {
    "colab": {
      "name": "Manipulando arquivo.ipynb",
      "provenance": [],
      "authorship_tag": "ABX9TyM0CG/D60ZVtRmfwGiw4KFc",
      "include_colab_link": true
    },
    "kernelspec": {
      "name": "python3",
      "display_name": "Python 3"
    },
    "language_info": {
      "name": "python"
    }
  },
  "cells": [
    {
      "cell_type": "markdown",
      "metadata": {
        "id": "view-in-github",
        "colab_type": "text"
      },
      "source": [
        "<a href=\"https://colab.research.google.com/github/raulpacheco2k/Sigmoidal-Python-Do-Zero/blob/main/Manipulando_arquivo.ipynb\" target=\"_parent\"><img src=\"https://colab.research.google.com/assets/colab-badge.svg\" alt=\"Open In Colab\"/></a>"
      ]
    },
    {
      "cell_type": "markdown",
      "metadata": {
        "id": "7WIq9A40hCrT"
      },
      "source": [
        "# Manipulação de arquivo \n",
        "O Python implementa funções nativas para manipular arquivos, vamos exemplificar as principais funcionalidades.\n",
        "\n",
        "Para manipilar um arquivo utilizaremos a função `open()` que necessita de dois parametros, o nome do arquivo que desejamos criar ou editar e o nível de permissão que desejamos."
      ]
    },
    {
      "cell_type": "code",
      "metadata": {
        "id": "eGC2jTpHwDFU"
      },
      "source": [
        "file = 'markdownfile.md'\n",
        "\n",
        "file = open(file, 'w')\n",
        "# Aqui colocaremos a manipulação do arquivo. \n",
        "# Veremos como manipular mais para frente "
      ],
      "execution_count": 93,
      "outputs": []
    },
    {
      "cell_type": "markdown",
      "metadata": {
        "id": "VSuniAnckrGN"
      },
      "source": [
        "## Permissões do arquivo\n",
        "O Python trabalha trabalha com basicamente três tipos de permissão leitura, escrita e acresentar, essas permissões podem ser mescladas como veremos a seguir.\n",
        "\n",
        "**Somente leitura:** Quando queremos apenas ler um arquivo devemos utilizar a permissão de somente leitura, esta permissão é representada pela letra `r`. Podemos ler um arquivo através da função `read()`. Esse nível de permissão é representado pela conjunto de caracteres `r`;\n",
        "\n",
        "**Somente escrita:** Quando queremos apenas escrever em um arquivo utilizaremos a permissão de somente escrita, esse nível de permissão age de duas formas:\n",
        "1. Caso escrevemos em um arquivo existente, todo o conteúdo que já estava no arquivo será apagado e ficará salvo apenas o que passamos para função `write()`.\n",
        "2. Caso escrevemos em um arquivo que ainda não exista, o Python criará esse arquivo com o conteúdo em que passamos pela função `write()`. Esse nível de permissão é representado pela conjunto de caracteres `w`;\n",
        "\n",
        "**Somente anexar:** Neste nível de permissão o Python também nos permite escrever em um arquivo, porem, diferentemente da permissão de escrita, com a permissão de anexar, quando escrevemos em um arquivo, o conteúdo que já existia no arquivo será preservado e começaremos a escrever a partir da última linha do arquivo, para anexar o conteúdo em um arquivo usaremos, assim como na permissão de escrita, a função `read()`. Esse nível de permissão é representado pela conjunto de caracteres `a`;\n",
        "\n",
        "Como dito anteriormente, podemos mesclar as permissões:\n",
        "1. Leitura e escrita, esse nível de permissão é representado pela conjunto de caracteres `r+`;\n",
        "1. Escrita e leitura esse nível de permissão é representado pela conjunto de caracteres `w+`;\n",
        "1. Anexar e leitura, esse nível de permissão é representado pela conjunto de caracteres `a+`."
      ]
    },
    {
      "cell_type": "markdown",
      "metadata": {
        "id": "u7CZBQTXEppo"
      },
      "source": [
        "Iremos até um diretório que contém arquivos para dar alguns exemplos."
      ]
    },
    {
      "cell_type": "code",
      "metadata": {
        "colab": {
          "base_uri": "https://localhost:8080/"
        },
        "id": "EKMQSJcmxC23",
        "outputId": "4a716967-9087-4bdd-a76d-6c2dbde1689d"
      },
      "source": [
        "import os\n",
        "os.chdir('/content/sample_data')\n",
        "os.listdir()"
      ],
      "execution_count": 94,
      "outputs": [
        {
          "output_type": "execute_result",
          "data": {
            "text/plain": [
              "['README.md',\n",
              " 'anscombe.json',\n",
              " 'README.md.txt',\n",
              " 'my_file.txt',\n",
              " 'markdownfile.md',\n",
              " 'mnist_test.csv',\n",
              " 'california_housing_train.csv',\n",
              " 'california_housing_test.csv',\n",
              " 'mnist_train_small.csv']"
            ]
          },
          "metadata": {
            "tags": []
          },
          "execution_count": 94
        }
      ]
    },
    {
      "cell_type": "markdown",
      "metadata": {
        "id": "JI5zQ7Fyyu2q"
      },
      "source": [
        "Iremos abrir o arquivo `README.md` com a permissão de somente leitura e exibiremos o resultado. "
      ]
    },
    {
      "cell_type": "code",
      "metadata": {
        "colab": {
          "base_uri": "https://localhost:8080/",
          "height": 52
        },
        "id": "m3UlSDzeyZFN",
        "outputId": "0f19c510-8bfb-4442-882b-471746345daf"
      },
      "source": [
        "file = open('README.md', 'r')\n",
        "file.read()"
      ],
      "execution_count": 96,
      "outputs": [
        {
          "output_type": "execute_result",
          "data": {
            "application/vnd.google.colaboratory.intrinsic+json": {
              "type": "string"
            },
            "text/plain": [
              "'[Meu perfil no GitHub](https://github.com/raulpacheco2k)[Meu perfil no GitHub](https://github.com/raulpacheco2k)[Meu perfil no GitHub](https://github.com/raulpacheco2k)'"
            ]
          },
          "metadata": {
            "tags": []
          },
          "execution_count": 96
        }
      ]
    },
    {
      "cell_type": "markdown",
      "metadata": {
        "id": "4cZ24jN1y9uW"
      },
      "source": [
        "Perceba que o texto retornado não está formatado corretamente, o que acaba dificultando sua visualização, podemos utilizar a função `print()` para que fique com uma exibição agradável para a leitura do documento."
      ]
    },
    {
      "cell_type": "code",
      "metadata": {
        "colab": {
          "base_uri": "https://localhost:8080/"
        },
        "id": "Agib22BwzMQX",
        "outputId": "23981719-8e21-4c26-8aa1-781744637335"
      },
      "source": [
        "file = open('README.md', 'r')\n",
        "print(file.read())"
      ],
      "execution_count": 109,
      "outputs": [
        {
          "output_type": "stream",
          "text": [
            "\n"
          ],
          "name": "stdout"
        }
      ]
    },
    {
      "cell_type": "markdown",
      "metadata": {
        "id": "weEl_6wvBIhh"
      },
      "source": [
        "Iremos adicionar algumas linhas no arquivo Markdown e em seguida iremos realizar um output do conteúdo atualizado."
      ]
    },
    {
      "cell_type": "code",
      "metadata": {
        "colab": {
          "base_uri": "https://localhost:8080/"
        },
        "id": "74WoiaQnxAbt",
        "outputId": "2eeb96e2-5302-45f7-ba58-b239914ae71f"
      },
      "source": [
        "file = open('README.md', 'w')\n",
        "file.write('[Meu perfil no GitHub](https://github.com/raulpacheco2k)')"
      ],
      "execution_count": 116,
      "outputs": [
        {
          "output_type": "execute_result",
          "data": {
            "text/plain": [
              "56"
            ]
          },
          "metadata": {
            "tags": []
          },
          "execution_count": 116
        }
      ]
    },
    {
      "cell_type": "code",
      "metadata": {
        "colab": {
          "base_uri": "https://localhost:8080/"
        },
        "id": "efhx8tY0FfVS",
        "outputId": "62434d9c-6e20-460c-88ad-865278b39d2a"
      },
      "source": [
        "file = open('README.md', 'r')\n",
        "print(file.read())"
      ],
      "execution_count": 117,
      "outputs": [
        {
          "output_type": "stream",
          "text": [
            "[Meu perfil no GitHub](https://github.com/raulpacheco2k)\n"
          ],
          "name": "stdout"
        }
      ]
    },
    {
      "cell_type": "markdown",
      "metadata": {
        "id": "Wfb9mqGUsMqm"
      },
      "source": [
        "## Conceito aberto-fechado\n",
        "Todo arquivo aberto deve ser fechado logo após a finalização do uso, para não ficar consumindo espaço na mémoria.\n",
        "\n",
        "Abrimos um arquivo com a função `open()` e fechamos com a `close()`."
      ]
    }
  ]
}