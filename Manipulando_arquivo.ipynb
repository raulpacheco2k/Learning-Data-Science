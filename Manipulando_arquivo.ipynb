{
  "nbformat": 4,
  "nbformat_minor": 0,
  "metadata": {
    "colab": {
      "name": "Manipulando arquivo.ipynb",
      "provenance": [],
      "authorship_tag": "ABX9TyNA66u5YbHxXlmjawUKUsHM",
      "include_colab_link": true
    },
    "kernelspec": {
      "name": "python3",
      "display_name": "Python 3"
    },
    "language_info": {
      "name": "python"
    }
  },
  "cells": [
    {
      "cell_type": "markdown",
      "metadata": {
        "id": "view-in-github",
        "colab_type": "text"
      },
      "source": [
        "<a href=\"https://colab.research.google.com/github/raulpacheco2k/Sigmoidal-Python-Do-Zero/blob/main/Manipulando_arquivo.ipynb\" target=\"_parent\"><img src=\"https://colab.research.google.com/assets/colab-badge.svg\" alt=\"Open In Colab\"/></a>"
      ]
    },
    {
      "cell_type": "markdown",
      "metadata": {
        "id": "7WIq9A40hCrT"
      },
      "source": [
        "# Manipulação de arquivo \n",
        "O Python implementa funções nativas para manipular arquivos, vamos exemplificar as principais funcionalidades.\n",
        "\n",
        "Para manipular um arquivo utilizaremos a função `open()` que necessita de dois parâmetros, o nome do arquivo que desejamos criar ou editar e o nível de permissão que desejamos."
      ]
    },
    {
      "cell_type": "code",
      "metadata": {
        "id": "eGC2jTpHwDFU"
      },
      "source": [
        "file = 'markdownfile.md'\n",
        "\n",
        "file = open(file, 'w')\n",
        "# Aqui colocaremos a manipulação do arquivo. \n",
        "# Veremos como manipular mais para frente "
      ],
      "execution_count": 1,
      "outputs": []
    },
    {
      "cell_type": "markdown",
      "metadata": {
        "id": "VSuniAnckrGN"
      },
      "source": [
        "O Python trabalha com basicamente três tipos de permissão leitura, escrita e anexar, essas permissões podem ser mescladas como veremos a seguir.\n",
        "\n",
        "**Somente leitura:** quando queremos apenas ler um arquivo devemos utilizar a permissão de somente leitura, esta permissão é representada pela letra `r`. Podemos ler um arquivo através da função `read()`. Esse nível de permissão é representado pelo conjunto de caracteres `r`;\n",
        "\n",
        "**Somente escrita:** Quando queremos apenas escrever em um arquivo utilizaremos a permissão de somente escrita, esse nível de permissão age de duas formas:\n",
        "1. Caso escrevemos em um arquivo existente, todo o conteúdo que já estava no arquivo será apagado e ficará salvo apenas o que passamos para função `write()`.\n",
        "2. Caso escrevemos em um arquivo que ainda não exista, o Python criará esse arquivo com o conteúdo em que passamos pela função `write()`. Esse nível de permissão é representado pelo conjunto de caracteres `w`;\n",
        "\n",
        "**Somente anexar:** neste nível de permissão o Python também nos permite escrever em um arquivo, porem, diferentemente da permissão de escrita, com a permissão de anexar, quando escrevemos em um arquivo, o conteúdo que já existia no arquivo será preservado e começaremos a escrever a partir da última linha do arquivo, para anexar o conteúdo em um arquivo usaremos, assim como na permissão de escrita, a função `read()`. Esse nível de permissão é representado pelo conjunto de caracteres `a`;\n",
        "\n",
        "Como dito anteriormente, podemos mesclar as permissões:\n",
        "1. Leitura e escrita, esse nível de permissão é representado pelo conjunto de caracteres `r+`;\n",
        "1. Escrita e leitura esse nível de permissão é representado pelo conjunto de caracteres `w+`;\n",
        "1. Anexar e leitura, esse nível de permissão é representado pelo conjunto de caracteres `a+`."
      ]
    },
    {
      "cell_type": "markdown",
      "metadata": {
        "id": "u7CZBQTXEppo"
      },
      "source": [
        "Iremos até um diretório que contém arquivos para dar alguns exemplos."
      ]
    },
    {
      "cell_type": "code",
      "metadata": {
        "colab": {
          "base_uri": "https://localhost:8080/"
        },
        "id": "EKMQSJcmxC23",
        "outputId": "4afdccba-791f-4b7a-f61e-65e23f2ab8aa"
      },
      "source": [
        "import os\n",
        "os.chdir('/content/sample_data')\n",
        "os.listdir()"
      ],
      "execution_count": 2,
      "outputs": [
        {
          "output_type": "execute_result",
          "data": {
            "text/plain": [
              "['README.md',\n",
              " 'anscombe.json',\n",
              " 'mnist_test.csv',\n",
              " 'california_housing_train.csv',\n",
              " 'california_housing_test.csv',\n",
              " 'mnist_train_small.csv']"
            ]
          },
          "metadata": {
            "tags": []
          },
          "execution_count": 2
        }
      ]
    },
    {
      "cell_type": "markdown",
      "metadata": {
        "id": "JI5zQ7Fyyu2q"
      },
      "source": [
        "Iremos abrir o arquivo `README.md` com a permissão de somente leitura e exibiremos o resultado. "
      ]
    },
    {
      "cell_type": "code",
      "metadata": {
        "colab": {
          "base_uri": "https://localhost:8080/",
          "height": 103
        },
        "id": "m3UlSDzeyZFN",
        "outputId": "3a661861-b552-4f86-c7d7-ee8e8d81af78"
      },
      "source": [
        "file = open('README.md', 'r')\n",
        "file.read()"
      ],
      "execution_count": 3,
      "outputs": [
        {
          "output_type": "execute_result",
          "data": {
            "application/vnd.google.colaboratory.intrinsic+json": {
              "type": "string"
            },
            "text/plain": [
              "\"This directory includes a few sample datasets to get you started.\\n\\n*   `california_housing_data*.csv` is California housing data from the 1990 US\\n    Census; more information is available at:\\n    https://developers.google.com/machine-learning/crash-course/california-housing-data-description\\n\\n*   `mnist_*.csv` is a small sample of the\\n    [MNIST database](https://en.wikipedia.org/wiki/MNIST_database), which is\\n    described at: http://yann.lecun.com/exdb/mnist/\\n\\n*   `anscombe.json` contains a copy of\\n    [Anscombe's quartet](https://en.wikipedia.org/wiki/Anscombe%27s_quartet); it\\n    was originally described in\\n\\n    Anscombe, F. J. (1973). 'Graphs in Statistical Analysis'. American\\n    Statistician. 27 (1): 17-21. JSTOR 2682899.\\n\\n    and our copy was prepared by the\\n    [vega_datasets library](https://github.com/altair-viz/vega_datasets/blob/4f67bdaad10f45e3549984e17e1b3088c731503d/vega_datasets/_data/anscombe.json).\\n\""
            ]
          },
          "metadata": {
            "tags": []
          },
          "execution_count": 3
        }
      ]
    },
    {
      "cell_type": "markdown",
      "metadata": {
        "id": "4cZ24jN1y9uW"
      },
      "source": [
        "Perceba que o texto retornado não está formatado corretamente, o que acaba dificultando sua visualização, podemos utilizar a função `print()` para que fique com uma exibição agradável para a leitura do documento."
      ]
    },
    {
      "cell_type": "code",
      "metadata": {
        "colab": {
          "base_uri": "https://localhost:8080/"
        },
        "id": "Agib22BwzMQX",
        "outputId": "532cb79c-dc69-41ce-cf0e-7bca488462c6"
      },
      "source": [
        "file = open('README.md', 'r')\n",
        "print(file.read())"
      ],
      "execution_count": 4,
      "outputs": [
        {
          "output_type": "stream",
          "text": [
            "This directory includes a few sample datasets to get you started.\n",
            "\n",
            "*   `california_housing_data*.csv` is California housing data from the 1990 US\n",
            "    Census; more information is available at:\n",
            "    https://developers.google.com/machine-learning/crash-course/california-housing-data-description\n",
            "\n",
            "*   `mnist_*.csv` is a small sample of the\n",
            "    [MNIST database](https://en.wikipedia.org/wiki/MNIST_database), which is\n",
            "    described at: http://yann.lecun.com/exdb/mnist/\n",
            "\n",
            "*   `anscombe.json` contains a copy of\n",
            "    [Anscombe's quartet](https://en.wikipedia.org/wiki/Anscombe%27s_quartet); it\n",
            "    was originally described in\n",
            "\n",
            "    Anscombe, F. J. (1973). 'Graphs in Statistical Analysis'. American\n",
            "    Statistician. 27 (1): 17-21. JSTOR 2682899.\n",
            "\n",
            "    and our copy was prepared by the\n",
            "    [vega_datasets library](https://github.com/altair-viz/vega_datasets/blob/4f67bdaad10f45e3549984e17e1b3088c731503d/vega_datasets/_data/anscombe.json).\n",
            "\n"
          ],
          "name": "stdout"
        }
      ]
    },
    {
      "cell_type": "markdown",
      "metadata": {
        "id": "weEl_6wvBIhh"
      },
      "source": [
        "Iremos adicionar algumas linhas no arquivo Markdown e em seguida realizaremos o output do conteúdo atualizado."
      ]
    },
    {
      "cell_type": "code",
      "metadata": {
        "colab": {
          "base_uri": "https://localhost:8080/"
        },
        "id": "74WoiaQnxAbt",
        "outputId": "b615cdd8-edfb-40e6-e74e-666862c7405c"
      },
      "source": [
        "file = open('README.md', 'a')\n",
        "file.write('\\n\\n\\t[Meu perfil no GitHub](https://github.com/raulpacheco2k)')"
      ],
      "execution_count": 5,
      "outputs": [
        {
          "output_type": "execute_result",
          "data": {
            "text/plain": [
              "58"
            ]
          },
          "metadata": {
            "tags": []
          },
          "execution_count": 5
        }
      ]
    },
    {
      "cell_type": "code",
      "metadata": {
        "colab": {
          "base_uri": "https://localhost:8080/"
        },
        "id": "efhx8tY0FfVS",
        "outputId": "d3beec2f-81b0-4405-9eae-2d3d2781a61b"
      },
      "source": [
        "file = open('README.md', 'r')\n",
        "print(file.read())"
      ],
      "execution_count": 6,
      "outputs": [
        {
          "output_type": "stream",
          "text": [
            "This directory includes a few sample datasets to get you started.\n",
            "\n",
            "*   `california_housing_data*.csv` is California housing data from the 1990 US\n",
            "    Census; more information is available at:\n",
            "    https://developers.google.com/machine-learning/crash-course/california-housing-data-description\n",
            "\n",
            "*   `mnist_*.csv` is a small sample of the\n",
            "    [MNIST database](https://en.wikipedia.org/wiki/MNIST_database), which is\n",
            "    described at: http://yann.lecun.com/exdb/mnist/\n",
            "\n",
            "*   `anscombe.json` contains a copy of\n",
            "    [Anscombe's quartet](https://en.wikipedia.org/wiki/Anscombe%27s_quartet); it\n",
            "    was originally described in\n",
            "\n",
            "    Anscombe, F. J. (1973). 'Graphs in Statistical Analysis'. American\n",
            "    Statistician. 27 (1): 17-21. JSTOR 2682899.\n",
            "\n",
            "    and our copy was prepared by the\n",
            "    [vega_datasets library](https://github.com/altair-viz/vega_datasets/blob/4f67bdaad10f45e3549984e17e1b3088c731503d/vega_datasets/_data/anscombe.json).\n",
            "\n",
            "\n",
            "[Meu perfil no GitHub](https://github.com/raulpacheco2k)\n"
          ],
          "name": "stdout"
        }
      ]
    },
    {
      "cell_type": "markdown",
      "metadata": {
        "id": "Wfb9mqGUsMqm"
      },
      "source": [
        "## Conceito aberto-fechado\n",
        "Até agora somente abrimos os arquivos e não fechamos, todo arquivo aberto deve ser fechado logo após finalizar uso, para não ficar consumindo espaço na memória.\n",
        "\n",
        "Como já vimos, abrimos um arquivo com a função `open()` e agora começaremos a fechar usando a função a `close()`."
      ]
    },
    {
      "cell_type": "code",
      "metadata": {
        "id": "P4vdf3q-GhWa",
        "outputId": "8dd3fcc3-42e8-4efa-fe5d-316603cc2f58",
        "colab": {
          "base_uri": "https://localhost:8080/"
        }
      },
      "source": [
        "file = open('Informações pessoais.txt', 'w')\n",
        "file.write('Nome: Raul Pacheco')\n",
        "file.write('Idade: 21 anos')\n",
        "file.write('Estado de nascimento: Santa Catarina')\n",
        "file.close()\n",
        "\n",
        "os.listdir()"
      ],
      "execution_count": 11,
      "outputs": [
        {
          "output_type": "execute_result",
          "data": {
            "text/plain": [
              "['README.md',\n",
              " 'anscombe.json',\n",
              " 'Informações pessoais.txt',\n",
              " 'mnist_test.csv',\n",
              " 'california_housing_train.csv',\n",
              " 'california_housing_test.csv',\n",
              " 'mnist_train_small.csv']"
            ]
          },
          "metadata": {
            "tags": []
          },
          "execution_count": 11
        }
      ]
    },
    {
      "cell_type": "markdown",
      "metadata": {
        "id": "QZVl62YfHbV-"
      },
      "source": [
        "No código anterior abrimos, usamos e fechamos nosso arquivo, em seguida listamos os arquivos do diretório e vimos que foi criado com sucesso.\n",
        "\n",
        "Ainda já uma maneira mais prática de abrir e fechar arquivo, o que acaba evitando grandes confusões durante o fluxo de desenvolvimento.  "
      ]
    },
    {
      "cell_type": "code",
      "metadata": {
        "id": "l-tJp8iYH2CS",
        "outputId": "8afe9ec6-ca7d-4aaa-b07e-b9a0b9e1019e",
        "colab": {
          "base_uri": "https://localhost:8080/"
        }
      },
      "source": [
        "with open('Método simples de manipulação de arquivo.txt', 'w') as file:\n",
        "  file.write('Este é o método simplicado de manipulação de arquivo com os recursos nativo do Python.')\n",
        "\n",
        "os.listdir()"
      ],
      "execution_count": 17,
      "outputs": [
        {
          "output_type": "execute_result",
          "data": {
            "text/plain": [
              "['README.md',\n",
              " 'anscombe.json',\n",
              " 'Informações pessoais.txt',\n",
              " 'Método simples de manipulação de arquivo.txt',\n",
              " 'mnist_test.csv',\n",
              " 'california_housing_train.csv',\n",
              " 'california_housing_test.csv',\n",
              " 'mnist_train_small.csv']"
            ]
          },
          "metadata": {
            "tags": []
          },
          "execution_count": 17
        }
      ]
    },
    {
      "cell_type": "markdown",
      "metadata": {
        "id": "-ODq_K-vIZYW"
      },
      "source": [
        "O código anterior diz à máquina: mantenha este arquivo aberto com esse nível de permissão enquanto o código estiver alinhado dentro de `with`, quando sair, pode fechar o arquivo.\n",
        "\n",
        "Esta metodologia de arquivo evita equívocos durante o fluxo de desenvolvimento, aconselho que sempre que for possível utilize este método."
      ]
    }
  ]
}