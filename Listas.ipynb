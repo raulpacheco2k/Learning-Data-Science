{
  "nbformat": 4,
  "nbformat_minor": 0,
  "metadata": {
    "colab": {
      "name": "Listas.ipynb",
      "provenance": [],
      "authorship_tag": "ABX9TyN46BkGlcj2oMZCkaWvXiAC",
      "include_colab_link": true
    },
    "kernelspec": {
      "name": "python3",
      "display_name": "Python 3"
    },
    "language_info": {
      "name": "python"
    }
  },
  "cells": [
    {
      "cell_type": "markdown",
      "metadata": {
        "id": "view-in-github",
        "colab_type": "text"
      },
      "source": [
        "<a href=\"https://colab.research.google.com/github/raulpacheco2k/Sigmoidal-Python-Do-Zero/blob/main/Listas.ipynb\" target=\"_parent\"><img src=\"https://colab.research.google.com/assets/colab-badge.svg\" alt=\"Open In Colab\"/></a>"
      ]
    },
    {
      "cell_type": "markdown",
      "metadata": {
        "id": "3iii69diiF0a"
      },
      "source": [
        "# Listas\n",
        "A lista é uma estrutura de dados poderosa por isso é uma das estruturas mais utilizadas em Python, podemos armazenas uma série de itens em um mesmo escopo utilizando listas.\n",
        "\n",
        "Aqui devemos algumas formas de manipular uma lista, desde declarar uma lista até realizar manipulações mais complexas."
      ]
    },
    {
      "cell_type": "markdown",
      "metadata": {
        "id": "QbnfzGkrig5e"
      },
      "source": [
        "## Declaração\n",
        "Existe duas formas de declarar uma lista em Python:"
      ]
    },
    {
      "cell_type": "code",
      "metadata": {
        "id": "Fes1TmFTiB7y"
      },
      "source": [
        "primeiraLista = []\n",
        "segundaLista = list()"
      ],
      "execution_count": 26,
      "outputs": []
    },
    {
      "cell_type": "markdown",
      "metadata": {
        "id": "jpdqfj-zkLRG"
      },
      "source": [
        "No bloco de código acima mostramos quais são as formas de declarar uma lista em Python, essas duas formas ira disponibilizar a mesma forma de trabalhar, não há divergência entre elas, exceto sua declaração. \n",
        "\n",
        "Fica a critério do desenvolver escolher qual forma ele prefere. Quando estamos trabalhando em um projeto já em andamento devemos manter o padrão do projeto e trabalhar em cima da forma que já foi estabelecida como padrão.\n",
        "\n",
        "No bloco de texto abaixo que a estrutura de dados é realmente a mesma."
      ]
    },
    {
      "cell_type": "code",
      "metadata": {
        "colab": {
          "base_uri": "https://localhost:8080/"
        },
        "id": "tdOnS2khi6Nw",
        "outputId": "0645dc8c-ba58-4b66-8a0b-ac6b3e35da4d"
      },
      "source": [
        "if type(segundaLista) == type(primeiraLista):\n",
        "  print(\"A estrutura de dados é a mesma entre as duas variáveis!\")\n",
        "else:\n",
        "  print(\"As duas variáveis tem estrutura de dados diferentes!\")"
      ],
      "execution_count": 27,
      "outputs": [
        {
          "output_type": "stream",
          "text": [
            "A estrutura de dados é a mesma entre as duas variáveis!\n"
          ],
          "name": "stdout"
        }
      ]
    },
    {
      "cell_type": "markdown",
      "metadata": {
        "id": "tiuvuAQjotxE"
      },
      "source": [
        "Como já dito anteriormente, com listas podemos armazenas uma série de itens no mesmo escopo, lista em Python são homogênea, ou seja, podemos armazenar dentro de uma lista elementos de tipo distintos, inclusive listas dentro de listas recursivamente. Podemos declarar uma lista já contendo conteúdo ou podemos atribuir conteúdo a lista durante a execução do programa, ou seja, listas são mutáveis."
      ]
    },
    {
      "cell_type": "markdown",
      "metadata": {
        "id": "gq3iYnQTqdX1"
      },
      "source": [
        "No bloco de código abaixo iremos visualizar como criamos uma lista com conteúdo já atribuídos.\n",
        "\n",
        "A lista variável `cars` irá listar [os carros mais populares por estado nos Estados Unidos](https://insurify.com/insights/most-popular-cars-by-state-2020/)"
      ]
    },
    {
      "cell_type": "code",
      "metadata": {
        "id": "rGaC9bYTpRzB",
        "outputId": "a0eb1fc6-ea9d-436f-df60-f602846416f1",
        "colab": {
          "base_uri": "https://localhost:8080/"
        }
      },
      "source": [
        "cars = [\"Honda Accord\", \"Chevrolet Malibu\", \"Honda Civic\", \"Chevrolet Impala\", \"Ford Focus\", \"Toyota Corolla\", \"Subaru Impreza\"]\n",
        "print(cars)"
      ],
      "execution_count": 44,
      "outputs": [
        {
          "output_type": "stream",
          "text": [
            "['Honda Accord', 'Chevrolet Malibu', 'Honda Civic', 'Chevrolet Impala', 'Ford Focus', 'Toyota Corolla', 'Subaru Impreza']\n"
          ],
          "name": "stdout"
        }
      ]
    },
    {
      "cell_type": "markdown",
      "metadata": {
        "id": "4hdaYRUNxV-d"
      },
      "source": [
        "Se tentarmos atribuir um novo valor para a lista de maneira convencional iremos acabar substituindo todos os outros valores."
      ]
    },
    {
      "cell_type": "code",
      "metadata": {
        "id": "9uodc9IfxDvS",
        "outputId": "662c596b-23dd-43c3-84f1-eb71fce2733a",
        "colab": {
          "base_uri": "https://localhost:8080/"
        }
      },
      "source": [
        "cars = \"Ford Explorer\"\n",
        "print(cars)"
      ],
      "execution_count": 45,
      "outputs": [
        {
          "output_type": "stream",
          "text": [
            "Ford Explorer\n"
          ],
          "name": "stdout"
        }
      ]
    },
    {
      "cell_type": "code",
      "metadata": {
        "id": "AWDYdUIfxZfx"
      },
      "source": [
        "# Devolvendo os valores originais\n",
        "cars = [\"Honda Accord\", \"Chevrolet Malibu\", \"Honda Civic\", \"Chevrolet Impala\", \"Ford Focus\", \"Toyota Corolla\", \"Ford Explorer\"]"
      ],
      "execution_count": 51,
      "outputs": []
    },
    {
      "cell_type": "markdown",
      "metadata": {
        "id": "nymXUx_kyrgi"
      },
      "source": [
        "Podemos adicionar valores a uma lista de uma maneira menos convencional e mais complicada através da busca do último elemento da lista e depois inserimos o valor desejado um índex a frente do último item da lista. "
      ]
    },
    {
      "cell_type": "code",
      "metadata": {
        "id": "xljV2k_WycZr",
        "outputId": "deac8554-aa32-4b2f-d0c2-5c4267980c90",
        "colab": {
          "base_uri": "https://localhost:8080/"
        }
      },
      "source": [
        "cars[len(cars):] = [\"Subaru Impreza\"]\n",
        "print(cars[-1])"
      ],
      "execution_count": 52,
      "outputs": [
        {
          "output_type": "stream",
          "text": [
            "Subaru Impreza\n"
          ],
          "name": "stdout"
        }
      ]
    },
    {
      "cell_type": "markdown",
      "metadata": {
        "id": "oXjXaJebrJEh"
      },
      "source": [
        "Uma maneira mais elegante de realizar o bloco de texto acima é através da função `append()` que abstrai o processo e torna o fluxo mais simplificado. Atráves da função append iremos adicionar um valor na última posíção, assim como ocorreu no bloco de código anterior."
      ]
    },
    {
      "cell_type": "code",
      "metadata": {
        "id": "befJsSdurIhS"
      },
      "source": [
        "cars.append(\"Toyota RAV4\")"
      ],
      "execution_count": 53,
      "outputs": []
    },
    {
      "cell_type": "markdown",
      "metadata": {
        "id": "3EyO7iMI2yfz"
      },
      "source": [
        "Se a vontade seja atribuir um valor em determinada posição devemos utilizar a função `insert()`, onde o primeiro parâmetro será a posição desejada da lista, já a segunda será o valor que queremos adicionar na lista."
      ]
    },
    {
      "cell_type": "code",
      "metadata": {
        "id": "sIUn5EDR2N8J"
      },
      "source": [
        "cars.insert(0, \"Nissan Altima\")"
      ],
      "execution_count": 54,
      "outputs": []
    },
    {
      "cell_type": "code",
      "metadata": {
        "id": "cNQKzm2lq9yH",
        "colab": {
          "base_uri": "https://localhost:8080/"
        },
        "outputId": "3da7ffb6-a3ed-4bf8-f3f9-9f9cb9a54b17"
      },
      "source": [
        "for index, car in enumerate(cars, 1):\n",
        "  print(f\"TOP {index}: {car}\")"
      ],
      "execution_count": 55,
      "outputs": [
        {
          "output_type": "stream",
          "text": [
            "TOP 1: Nissan Altima\n",
            "TOP 2: Honda Accord\n",
            "TOP 3: Chevrolet Malibu\n",
            "TOP 4: Honda Civic\n",
            "TOP 5: Chevrolet Impala\n",
            "TOP 6: Ford Focus\n",
            "TOP 7: Toyota Corolla\n",
            "TOP 8: Ford Explorer\n",
            "TOP 9: Subaru Impreza\n",
            "TOP 10: Toyota RAV4\n"
          ],
          "name": "stdout"
        }
      ]
    }
  ]
}