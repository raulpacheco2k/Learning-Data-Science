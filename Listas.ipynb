{
  "nbformat": 4,
  "nbformat_minor": 0,
  "metadata": {
    "colab": {
      "name": "Listas.ipynb",
      "provenance": [],
      "authorship_tag": "ABX9TyMhCAED0EG0QayBCBAbh5/W",
      "include_colab_link": true
    },
    "kernelspec": {
      "name": "python3",
      "display_name": "Python 3"
    },
    "language_info": {
      "name": "python"
    }
  },
  "cells": [
    {
      "cell_type": "markdown",
      "metadata": {
        "id": "view-in-github",
        "colab_type": "text"
      },
      "source": [
        "<a href=\"https://colab.research.google.com/github/raulpacheco2k/Sigmoidal-Python-Do-Zero/blob/main/Listas.ipynb\" target=\"_parent\"><img src=\"https://colab.research.google.com/assets/colab-badge.svg\" alt=\"Open In Colab\"/></a>"
      ]
    },
    {
      "cell_type": "markdown",
      "metadata": {
        "id": "3iii69diiF0a"
      },
      "source": [
        "# Listas\n",
        "A lista é uma estrutura de dados poderaso em Python e por isso é uma das estrutura mais utilizadas, com ela podemos armazenas uma série de itens dentro de um mesmo escopo.\n",
        "\n",
        "Aqui devemos algumas formas de manipular uma lista, desde de declarar uma lista até realizar manipulações mais complexas."
      ]
    },
    {
      "cell_type": "markdown",
      "metadata": {
        "id": "QbnfzGkrig5e"
      },
      "source": [
        "## Declaração\n",
        "Existe duas formas de declarar uma lista em Python:"
      ]
    },
    {
      "cell_type": "code",
      "metadata": {
        "id": "Fes1TmFTiB7y"
      },
      "source": [
        "primeiraLista = []\n",
        "segundaLista = list()"
      ],
      "execution_count": 2,
      "outputs": []
    },
    {
      "cell_type": "markdown",
      "metadata": {
        "id": "jpdqfj-zkLRG"
      },
      "source": [
        "No bloco de código acima mostramos quais são as formas de declarar uma lista em Python, essas duas formas ira disponibilizar a mesma forma de trabalhar, não há divergência entre elas, exceto sua declaração. \n",
        "\n",
        "Fica a critério do desenvolver escolher qual forma ele prefere. Quando estamos trabalhando em um projeto já em andamento devemos manter o padrão do projeto e trabalhar em cima da forma que já foi estabelecida como padrão.\n",
        "\n",
        "No bloco de texto abaixo podemos ver que a estrutura de dados é realmente a mesma."
      ]
    },
    {
      "cell_type": "code",
      "metadata": {
        "colab": {
          "base_uri": "https://localhost:8080/"
        },
        "id": "tdOnS2khi6Nw",
        "outputId": "05d60ea3-cf8a-4362-f93b-0221c3058f7c"
      },
      "source": [
        "if type(segundaLista) == type(primeiraLista):\n",
        "  print(\"A estrutura de dados é a mesma entre as duas variáveis!\")\n",
        "else:\n",
        "  print(\"As duas variáveis tem estrutura de dados diferentes!\")"
      ],
      "execution_count": 14,
      "outputs": [
        {
          "output_type": "stream",
          "text": [
            "A estrutura de dados é a mesma entre as duas variáveis!\n"
          ],
          "name": "stdout"
        }
      ]
    }
  ]
}