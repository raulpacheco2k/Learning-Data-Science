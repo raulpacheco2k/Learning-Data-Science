{
  "nbformat": 4,
  "nbformat_minor": 0,
  "metadata": {
    "colab": {
      "name": "Listas.ipynb",
      "provenance": [],
      "authorship_tag": "ABX9TyNORY0yFq7deUFQglHW/m1k",
      "include_colab_link": true
    },
    "kernelspec": {
      "name": "python3",
      "display_name": "Python 3"
    },
    "language_info": {
      "name": "python"
    }
  },
  "cells": [
    {
      "cell_type": "markdown",
      "metadata": {
        "id": "view-in-github",
        "colab_type": "text"
      },
      "source": [
        "<a href=\"https://colab.research.google.com/github/raulpacheco2k/Sigmoidal-Python-Do-Zero/blob/main/Listas.ipynb\" target=\"_parent\"><img src=\"https://colab.research.google.com/assets/colab-badge.svg\" alt=\"Open In Colab\"/></a>"
      ]
    },
    {
      "cell_type": "markdown",
      "metadata": {
        "id": "3iii69diiF0a"
      },
      "source": [
        "# Listas\n",
        "A lista é uma estrutura de dados poderosa e por isso é uma das estrutura mais utilizadas em Python, com ela podemos armazenas uma série de itens dentro de um mesmo escopo.\n",
        "\n",
        "Aqui devemos algumas formas de manipular uma lista, desde de declarar uma lista até realizar manipulações mais complexas."
      ]
    },
    {
      "cell_type": "markdown",
      "metadata": {
        "id": "QbnfzGkrig5e"
      },
      "source": [
        "## Declaração\n",
        "Existe duas formas de declarar uma lista em Python:"
      ]
    },
    {
      "cell_type": "code",
      "metadata": {
        "id": "Fes1TmFTiB7y"
      },
      "source": [
        "primeiraLista = []\n",
        "segundaLista = list()"
      ],
      "execution_count": null,
      "outputs": []
    },
    {
      "cell_type": "markdown",
      "metadata": {
        "id": "jpdqfj-zkLRG"
      },
      "source": [
        "No bloco de código acima mostramos quais são as formas de declarar uma lista em Python, essas duas formas ira disponibilizar a mesma forma de trabalhar, não há divergência entre elas, exceto sua declaração. \n",
        "\n",
        "Fica a critério do desenvolver escolher qual forma ele prefere. Quando estamos trabalhando em um projeto já em andamento devemos manter o padrão do projeto e trabalhar em cima da forma que já foi estabelecida como padrão.\n",
        "\n",
        "No bloco de texto abaixo podemos ver que a estrutura de dados é realmente a mesma."
      ]
    },
    {
      "cell_type": "code",
      "metadata": {
        "colab": {
          "base_uri": "https://localhost:8080/"
        },
        "id": "tdOnS2khi6Nw",
        "outputId": "05d60ea3-cf8a-4362-f93b-0221c3058f7c"
      },
      "source": [
        "if type(segundaLista) == type(primeiraLista):\n",
        "  print(\"A estrutura de dados é a mesma entre as duas variáveis!\")\n",
        "else:\n",
        "  print(\"As duas variáveis tem estrutura de dados diferentes!\")"
      ],
      "execution_count": null,
      "outputs": [
        {
          "output_type": "stream",
          "text": [
            "A estrutura de dados é a mesma entre as duas variáveis!\n"
          ],
          "name": "stdout"
        }
      ]
    },
    {
      "cell_type": "markdown",
      "metadata": {
        "id": "tiuvuAQjotxE"
      },
      "source": [
        "Como já dito anteriormente, com listas podemos armazenas uma série de itens dentro de um mesmo escopo independente do tipo de cada item da lista. Podemos declarar um uma lista já contendo conteúdo ou podemos atribuir conteúdo a lista durante a execução do programa, ou seja, listas são mutáveis."
      ]
    },
    {
      "cell_type": "markdown",
      "metadata": {
        "id": "gq3iYnQTqdX1"
      },
      "source": [
        "No bloco de código abaixo iremos visualizar como criamos uma lista com conteúdo já atribuidos.\n",
        "\n",
        "A lista variável `cars` irá listar [os carros mais populares por estado no Estados Unidos](https://insurify.com/insights/most-popular-cars-by-state-2020/)"
      ]
    },
    {
      "cell_type": "code",
      "metadata": {
        "id": "rGaC9bYTpRzB"
      },
      "source": [
        "cars = [\"Nissan Altima\", \"Honda Accord\", \"Chevrolet Malibu\", \"Honda Civic\", \"Chevrolet Impala\", \"Ford Focus\", \"Toyota Corolla\"]"
      ],
      "execution_count": 7,
      "outputs": []
    },
    {
      "cell_type": "markdown",
      "metadata": {
        "id": "oXjXaJebrJEh"
      },
      "source": [
        "Caso nossa vontade seja atribuir valor a lista durante a execução do programa devemos utilizar a função `append`."
      ]
    },
    {
      "cell_type": "code",
      "metadata": {
        "id": "befJsSdurIhS"
      },
      "source": [
        "cars.append(\"Ford Explorer\")\n",
        "cars.append(\"Subaru Impreza\")\n",
        "cars.append(\"Toyota RAV4\")"
      ],
      "execution_count": 9,
      "outputs": []
    },
    {
      "cell_type": "code",
      "metadata": {
        "id": "cNQKzm2lq9yH",
        "outputId": "cf3b81a0-1a67-42f6-de70-632820fe81dd",
        "colab": {
          "base_uri": "https://localhost:8080/"
        }
      },
      "source": [
        "for index, car in enumerate(cars, 1):\n",
        "  print(f\"TOP {index}: {car}\")"
      ],
      "execution_count": 25,
      "outputs": [
        {
          "output_type": "stream",
          "text": [
            "TOP 1: Nissan Altima\n",
            "TOP 2: Honda Accord\n",
            "TOP 3: Chevrolet Malibu\n",
            "TOP 4: Honda Civic\n",
            "TOP 5: Chevrolet Impala\n",
            "TOP 6: Ford Focus\n",
            "TOP 7: Toyota Corolla\n",
            "TOP 8: Ford Explorer\n",
            "TOP 9: Subaru Impreza\n",
            "TOP 10: Toyota RAV4\n"
          ],
          "name": "stdout"
        }
      ]
    }
  ]
}