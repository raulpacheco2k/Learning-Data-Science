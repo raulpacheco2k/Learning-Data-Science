{
  "nbformat": 4,
  "nbformat_minor": 0,
  "metadata": {
    "colab": {
      "name": "Gráfico de histograma.ipynb",
      "provenance": [],
      "authorship_tag": "ABX9TyORTppbDRsKDvRDteN1Fzz2",
      "include_colab_link": true
    },
    "kernelspec": {
      "name": "python3",
      "display_name": "Python 3"
    },
    "language_info": {
      "name": "python"
    }
  },
  "cells": [
    {
      "cell_type": "markdown",
      "metadata": {
        "id": "view-in-github",
        "colab_type": "text"
      },
      "source": [
        "<a href=\"https://colab.research.google.com/github/raulpacheco2k/Sigmoidal-Python-Do-Zero/blob/main/Gr%C3%A1fico_de_histograma.ipynb\" target=\"_parent\"><img src=\"https://colab.research.google.com/assets/colab-badge.svg\" alt=\"Open In Colab\"/></a>"
      ]
    },
    {
      "cell_type": "markdown",
      "metadata": {
        "id": "4JBMSb3hX2O2"
      },
      "source": [
        "# Gráfico de histograma\n",
        "\n",
        "[Link do dataset](https://www.kaggle.com/thiagobodruk/brazilianstates)\n",
        "\n",
        "Serve para observar a distribuição de frequência."
      ]
    },
    {
      "cell_type": "code",
      "metadata": {
        "id": "lQkIN26OM0ic"
      },
      "source": [
        "import pandas as pd \n",
        "import matplotlib.pyplot as plt"
      ],
      "execution_count": 82,
      "outputs": []
    },
    {
      "cell_type": "code",
      "metadata": {
        "id": "zZmo9lxzNETX"
      },
      "source": [
        "data = pd.read_csv('/content/hdi.csv')"
      ],
      "execution_count": 103,
      "outputs": []
    },
    {
      "cell_type": "code",
      "metadata": {
        "id": "eJzLD6TDNv75",
        "outputId": "a98df867-760c-4d3b-806f-1a1e0678858d",
        "colab": {
          "base_uri": "https://localhost:8080/",
          "height": 258
        }
      },
      "source": [
        "data.head()"
      ],
      "execution_count": 106,
      "outputs": [
        {
          "output_type": "execute_result",
          "data": {
            "text/html": [
              "<div>\n",
              "<style scoped>\n",
              "    .dataframe tbody tr th:only-of-type {\n",
              "        vertical-align: middle;\n",
              "    }\n",
              "\n",
              "    .dataframe tbody tr th {\n",
              "        vertical-align: top;\n",
              "    }\n",
              "\n",
              "    .dataframe thead th {\n",
              "        text-align: right;\n",
              "    }\n",
              "</style>\n",
              "<table border=\"1\" class=\"dataframe\">\n",
              "  <thead>\n",
              "    <tr style=\"text-align: right;\">\n",
              "      <th></th>\n",
              "      <th>UF</th>\n",
              "      <th>HDI 2017</th>\n",
              "      <th>HDI Education 2017</th>\n",
              "      <th>HDI Wealth 2017</th>\n",
              "      <th>HDI Health 2017</th>\n",
              "      <th>HDI 2010</th>\n",
              "      <th>HDI Education 2010</th>\n",
              "      <th>HDI Wealth 2010</th>\n",
              "      <th>HDI Health 2010</th>\n",
              "      <th>HDI 2000</th>\n",
              "      <th>HDI Education 2000</th>\n",
              "      <th>HDI Wealth 2000</th>\n",
              "      <th>HDI Health 2000</th>\n",
              "      <th>HDI 1991</th>\n",
              "      <th>HDI Education 1991</th>\n",
              "      <th>HDI Wealth 1991</th>\n",
              "      <th>HDI Health 1991</th>\n",
              "    </tr>\n",
              "  </thead>\n",
              "  <tbody>\n",
              "    <tr>\n",
              "      <th>0</th>\n",
              "      <td>AC</td>\n",
              "      <td>0.719</td>\n",
              "      <td>0.682</td>\n",
              "      <td>0.664</td>\n",
              "      <td>0.821</td>\n",
              "      <td>0.663</td>\n",
              "      <td>0.559</td>\n",
              "      <td>0.671</td>\n",
              "      <td>0.777</td>\n",
              "      <td>0.517</td>\n",
              "      <td>0.325</td>\n",
              "      <td>0.612</td>\n",
              "      <td>0.694</td>\n",
              "      <td>0.402</td>\n",
              "      <td>0.176</td>\n",
              "      <td>0.574</td>\n",
              "      <td>0.645</td>\n",
              "    </tr>\n",
              "    <tr>\n",
              "      <th>1</th>\n",
              "      <td>AL</td>\n",
              "      <td>0.683</td>\n",
              "      <td>0.636</td>\n",
              "      <td>0.639</td>\n",
              "      <td>0.783</td>\n",
              "      <td>0.631</td>\n",
              "      <td>0.520</td>\n",
              "      <td>0.641</td>\n",
              "      <td>0.755</td>\n",
              "      <td>0.471</td>\n",
              "      <td>0.282</td>\n",
              "      <td>0.574</td>\n",
              "      <td>0.647</td>\n",
              "      <td>0.370</td>\n",
              "      <td>0.174</td>\n",
              "      <td>0.527</td>\n",
              "      <td>0.552</td>\n",
              "    </tr>\n",
              "    <tr>\n",
              "      <th>2</th>\n",
              "      <td>AM</td>\n",
              "      <td>0.733</td>\n",
              "      <td>0.735</td>\n",
              "      <td>0.682</td>\n",
              "      <td>0.786</td>\n",
              "      <td>0.674</td>\n",
              "      <td>0.561</td>\n",
              "      <td>0.677</td>\n",
              "      <td>0.805</td>\n",
              "      <td>0.515</td>\n",
              "      <td>0.324</td>\n",
              "      <td>0.608</td>\n",
              "      <td>0.692</td>\n",
              "      <td>0.430</td>\n",
              "      <td>0.204</td>\n",
              "      <td>0.605</td>\n",
              "      <td>0.645</td>\n",
              "    </tr>\n",
              "    <tr>\n",
              "      <th>3</th>\n",
              "      <td>AP</td>\n",
              "      <td>0.740</td>\n",
              "      <td>0.710</td>\n",
              "      <td>0.695</td>\n",
              "      <td>0.820</td>\n",
              "      <td>0.708</td>\n",
              "      <td>0.629</td>\n",
              "      <td>0.694</td>\n",
              "      <td>0.813</td>\n",
              "      <td>0.577</td>\n",
              "      <td>0.424</td>\n",
              "      <td>0.638</td>\n",
              "      <td>0.711</td>\n",
              "      <td>0.472</td>\n",
              "      <td>0.254</td>\n",
              "      <td>0.620</td>\n",
              "      <td>0.668</td>\n",
              "    </tr>\n",
              "    <tr>\n",
              "      <th>4</th>\n",
              "      <td>BA</td>\n",
              "      <td>0.714</td>\n",
              "      <td>0.654</td>\n",
              "      <td>0.685</td>\n",
              "      <td>0.812</td>\n",
              "      <td>0.660</td>\n",
              "      <td>0.555</td>\n",
              "      <td>0.663</td>\n",
              "      <td>0.783</td>\n",
              "      <td>0.512</td>\n",
              "      <td>0.332</td>\n",
              "      <td>0.594</td>\n",
              "      <td>0.680</td>\n",
              "      <td>0.386</td>\n",
              "      <td>0.182</td>\n",
              "      <td>0.543</td>\n",
              "      <td>0.582</td>\n",
              "    </tr>\n",
              "  </tbody>\n",
              "</table>\n",
              "</div>"
            ],
            "text/plain": [
              "   UF  HDI 2017  ...  HDI Wealth 1991  HDI Health 1991\n",
              "0  AC     0.719  ...            0.574            0.645\n",
              "1  AL     0.683  ...            0.527            0.552\n",
              "2  AM     0.733  ...            0.605            0.645\n",
              "3  AP     0.740  ...            0.620            0.668\n",
              "4  BA     0.714  ...            0.543            0.582\n",
              "\n",
              "[5 rows x 17 columns]"
            ]
          },
          "metadata": {
            "tags": []
          },
          "execution_count": 106
        }
      ]
    },
    {
      "cell_type": "markdown",
      "metadata": {
        "id": "f0cPYTpPdsmr"
      },
      "source": [
        "Distruição de frequência dos dados de IDH de 2017 com base nos estados brasileiros."
      ]
    },
    {
      "cell_type": "code",
      "metadata": {
        "colab": {
          "base_uri": "https://localhost:8080/",
          "height": 258
        },
        "id": "9L5jzxp9YTnh",
        "outputId": "a7ea110f-8520-4076-9dad-0a26513e1b1f"
      },
      "source": [
        "plt.rcParams[\"figure.figsize\"] = (12,3)\n",
        "\n",
        "plt.hist('HDI 2017', data=data)\n",
        "plt.title('IDH 2017')\n",
        "plt.xlabel('IDH')\n",
        "plt.ylabel('Quantidade de ocorrências')\n",
        "plt.plot()"
      ],
      "execution_count": 127,
      "outputs": [
        {
          "output_type": "execute_result",
          "data": {
            "text/plain": [
              "[]"
            ]
          },
          "metadata": {
            "tags": []
          },
          "execution_count": 127
        },
        {
          "output_type": "display_data",
          "data": {
            "image/png": "[encoded data removed]",
            "text/plain": [
              "<Figure size 864x216 with 1 Axes>"
            ]
          },
          "metadata": {
            "tags": [],
            "needs_background": "light"
          }
        }
      ]
    },
    {
      "cell_type": "markdown",
      "metadata": {
        "id": "arklYCkdd_3N"
      },
      "source": [
        "Por mais que não seja um gráfico de histograma e sim de linhas, podemos observar quais são os estados com os maiores IDH.\n",
        "1. Distrito Federal\n",
        "1. São Paulo\n",
        "1. Santa Catarina"
      ]
    },
    {
      "cell_type": "code",
      "metadata": {
        "id": "w2q482fYaoJG",
        "outputId": "73318186-1a2d-4c79-e7a9-c3a22dec6808",
        "colab": {
          "base_uri": "https://localhost:8080/",
          "height": 211
        }
      },
      "source": [
        "plt.plot('UF', 'HDI 2017', data=data)\n",
        "plt.show()"
      ],
      "execution_count": 128,
      "outputs": [
        {
          "output_type": "display_data",
          "data": {
            "image/png": "[encoded data removed]",
            "text/plain": [
              "<Figure size 864x216 with 1 Axes>"
            ]
          },
          "metadata": {
            "tags": [],
            "needs_background": "light"
          }
        }
      ]
    }
  ]
}