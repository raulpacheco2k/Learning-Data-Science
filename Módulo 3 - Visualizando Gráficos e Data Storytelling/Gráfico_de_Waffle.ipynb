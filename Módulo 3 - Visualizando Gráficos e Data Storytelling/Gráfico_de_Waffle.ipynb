{
  "nbformat": 4,
  "nbformat_minor": 0,
  "metadata": {
    "colab": {
      "name": "Gráfico de Waffle.ipynb",
      "provenance": [],
      "authorship_tag": "ABX9TyPDq0kvBXedy7tzKDq1SEaF",
      "include_colab_link": true
    },
    "kernelspec": {
      "name": "python3",
      "display_name": "Python 3"
    },
    "language_info": {
      "name": "python"
    }
  },
  "cells": [
    {
      "cell_type": "markdown",
      "metadata": {
        "id": "view-in-github",
        "colab_type": "text"
      },
      "source": [
        "<a href=\"https://colab.research.google.com/github/raulpacheco2k/Sigmoidal-Python-Do-Zero/blob/main/Gr%C3%A1fico_de_Waffle.ipynb\" target=\"_parent\"><img src=\"https://colab.research.google.com/assets/colab-badge.svg\" alt=\"Open In Colab\"/></a>"
      ]
    },
    {
      "cell_type": "markdown",
      "metadata": {
        "id": "zCIkygl48Hup"
      },
      "source": [
        "# Gráfico de Waffle\n",
        "Gráfico de Waffle é muito interessante, pois com ele nos permite fazer que uma pessoa completamente técnica e uma pessoa sem uma educação formal consigam interpretar o gráfico de maneira objetiva, ou seja, facilitando a transmissão de informação de forma clara e eficaz para o receptor da mensagem, além de não demandar de uma alta carga cognitiva. Simples, fácil e direto ao ponto.\n",
        "\n",
        "<img src=\"http://web.education.wisc.edu/nwhillman/wp-content/uploads/sites/16/2017/08/waffle.png\" height=\"200px\">\n"
      ]
    },
    {
      "cell_type": "markdown",
      "metadata": {
        "id": "aZ8JErb7EOug"
      },
      "source": [
        "### Instalando as bibliotecas necessárias\n",
        "Usaremos a biblioteca *pywaffle* para plotar nosso gráfico, com esta biblioteca não vem por padrão no *Google Colab*, precisamos instalar através do *pip*."
      ]
    },
    {
      "cell_type": "code",
      "metadata": {
        "colab": {
          "base_uri": "https://localhost:8080/"
        },
        "id": "OhMs1v3l6EML",
        "outputId": "222dc0ef-b782-40a1-f877-c4fcc3e9fd10"
      },
      "source": [
        "!pip install pywaffle"
      ],
      "execution_count": 142,
      "outputs": [
        {
          "output_type": "stream",
          "text": [
            "Requirement already satisfied: pywaffle in /usr/local/lib/python3.7/dist-packages (0.6.1)\n",
            "Requirement already satisfied: matplotlib in /usr/local/lib/python3.7/dist-packages (from pywaffle) (3.2.2)\n",
            "Requirement already satisfied: pyparsing!=2.0.4,!=2.1.2,!=2.1.6,>=2.0.1 in /usr/local/lib/python3.7/dist-packages (from matplotlib->pywaffle) (2.4.7)\n",
            "Requirement already satisfied: cycler>=0.10 in /usr/local/lib/python3.7/dist-packages (from matplotlib->pywaffle) (0.10.0)\n",
            "Requirement already satisfied: numpy>=1.11 in /usr/local/lib/python3.7/dist-packages (from matplotlib->pywaffle) (1.19.5)\n",
            "Requirement already satisfied: python-dateutil>=2.1 in /usr/local/lib/python3.7/dist-packages (from matplotlib->pywaffle) (2.8.1)\n",
            "Requirement already satisfied: kiwisolver>=1.0.1 in /usr/local/lib/python3.7/dist-packages (from matplotlib->pywaffle) (1.3.1)\n",
            "Requirement already satisfied: six in /usr/local/lib/python3.7/dist-packages (from cycler>=0.10->matplotlib->pywaffle) (1.15.0)\n"
          ],
          "name": "stdout"
        }
      ]
    },
    {
      "cell_type": "markdown",
      "metadata": {
        "id": "Sl8XqmjbESdC"
      },
      "source": [
        "### Importanto as bibliotecas\n",
        "Após instalar as bibliotecas necessárias, importaremos aquelas que desejamos trabalhar."
      ]
    },
    {
      "cell_type": "code",
      "metadata": {
        "id": "kgbaORux6HuU"
      },
      "source": [
        "from pywaffle import Waffle\n",
        "import matplotlib.pyplot as plt"
      ],
      "execution_count": 143,
      "outputs": []
    },
    {
      "cell_type": "markdown",
      "metadata": {
        "id": "uXwNuLu5EVGu"
      },
      "source": [
        "### Importando os dados\n",
        "Neste dataset temos as respostas de alguns programadores PHP em relação a sua profissão."
      ]
    },
    {
      "cell_type": "code",
      "metadata": {
        "id": "oYyW3iKA5uR3"
      },
      "source": [
        "df = pd.read_csv('/content/Pesquisa salarial desenvolvedor PHP.csv')"
      ],
      "execution_count": 144,
      "outputs": []
    },
    {
      "cell_type": "markdown",
      "metadata": {
        "id": "UHNVAS--EW_5"
      },
      "source": [
        "### Visualizando a prévia dos dados\n",
        "Neste dataset temos as seguintes informações para poder manipular afim de extrair alguma informação: *Cargo*, *Formação acadêmica*, *Estado de residência* e\t*Salário*."
      ]
    },
    {
      "cell_type": "code",
      "metadata": {
        "colab": {
          "base_uri": "https://localhost:8080/",
          "height": 204
        },
        "id": "557FmI_t54Di",
        "outputId": "0d9b67a5-8083-4acf-af3c-14aad0101133"
      },
      "source": [
        "df.head()"
      ],
      "execution_count": 163,
      "outputs": [
        {
          "output_type": "execute_result",
          "data": {
            "text/html": [
              "<div>\n",
              "<style scoped>\n",
              "    .dataframe tbody tr th:only-of-type {\n",
              "        vertical-align: middle;\n",
              "    }\n",
              "\n",
              "    .dataframe tbody tr th {\n",
              "        vertical-align: top;\n",
              "    }\n",
              "\n",
              "    .dataframe thead th {\n",
              "        text-align: right;\n",
              "    }\n",
              "</style>\n",
              "<table border=\"1\" class=\"dataframe\">\n",
              "  <thead>\n",
              "    <tr style=\"text-align: right;\">\n",
              "      <th></th>\n",
              "      <th>Carimbo de data/hora</th>\n",
              "      <th>Cargo</th>\n",
              "      <th>Formação acadêmica</th>\n",
              "      <th>Estado de residência</th>\n",
              "      <th>Salário</th>\n",
              "    </tr>\n",
              "  </thead>\n",
              "  <tbody>\n",
              "    <tr>\n",
              "      <th>0</th>\n",
              "      <td>2021/07/04 7:04:08 PM GMT-3</td>\n",
              "      <td>Desenvolvedor Júnior</td>\n",
              "      <td>Sem ensino superior</td>\n",
              "      <td>Amazonas</td>\n",
              "      <td>R$ 1.000,00 - R$ 1.499,99</td>\n",
              "    </tr>\n",
              "    <tr>\n",
              "      <th>1</th>\n",
              "      <td>2021/07/04 6:21:02 PM GMT-3</td>\n",
              "      <td>Desenvolvedor Júnior</td>\n",
              "      <td>NaN</td>\n",
              "      <td>Santa Catarina</td>\n",
              "      <td>R$ 1.500,00 - R$ 1.999,99</td>\n",
              "    </tr>\n",
              "    <tr>\n",
              "      <th>2</th>\n",
              "      <td>2021/07/06 12:19:09 AM GMT-3</td>\n",
              "      <td>Desenvolvedor Júnior</td>\n",
              "      <td>Sem ensino superior</td>\n",
              "      <td>São Paulo</td>\n",
              "      <td>R$ 1.500,00 - R$ 1.999,99</td>\n",
              "    </tr>\n",
              "    <tr>\n",
              "      <th>3</th>\n",
              "      <td>2021/07/07 12:42:08 PM GMT-3</td>\n",
              "      <td>Desenvolvedor Júnior</td>\n",
              "      <td>Ensino médio</td>\n",
              "      <td>Rio de Janeiro</td>\n",
              "      <td>R$ 2.000,00 - R$ 2.499,99</td>\n",
              "    </tr>\n",
              "    <tr>\n",
              "      <th>4</th>\n",
              "      <td>2021/07/07 9:30:48 AM GMT-3</td>\n",
              "      <td>Desenvolver Pleno</td>\n",
              "      <td>Graduado</td>\n",
              "      <td>Minas Gerais</td>\n",
              "      <td>R$ 2.500,00 - R$ 2.999,99</td>\n",
              "    </tr>\n",
              "  </tbody>\n",
              "</table>\n",
              "</div>"
            ],
            "text/plain": [
              "           Carimbo de data/hora  ...                    Salário\n",
              "0   2021/07/04 7:04:08 PM GMT-3  ...  R$ 1.000,00 - R$ 1.499,99\n",
              "1   2021/07/04 6:21:02 PM GMT-3  ...  R$ 1.500,00 - R$ 1.999,99\n",
              "2  2021/07/06 12:19:09 AM GMT-3  ...  R$ 1.500,00 - R$ 1.999,99\n",
              "3  2021/07/07 12:42:08 PM GMT-3  ...  R$ 2.000,00 - R$ 2.499,99\n",
              "4   2021/07/07 9:30:48 AM GMT-3  ...  R$ 2.500,00 - R$ 2.999,99\n",
              "\n",
              "[5 rows x 5 columns]"
            ]
          },
          "metadata": {
            "tags": []
          },
          "execution_count": 163
        }
      ]
    },
    {
      "cell_type": "markdown",
      "metadata": {
        "id": "19wfFcyLEcdl"
      },
      "source": [
        "### Tratando os dados\n",
        "Iremos transformar a coluna de *Formação acadêmica* em uma estrutura de dados do tipo dicionário e em seguida iremos armazenar em uma variável para utilizar em seguida. "
      ]
    },
    {
      "cell_type": "code",
      "metadata": {
        "id": "6qNrcsBv6gX7"
      },
      "source": [
        "data = dict(df['Formação acadêmica'].value_counts())"
      ],
      "execution_count": 179,
      "outputs": []
    },
    {
      "cell_type": "code",
      "metadata": {
        "colab": {
          "base_uri": "https://localhost:8080/"
        },
        "id": "IYAFPA4-N2vD",
        "outputId": "0bc6ec8a-831a-4e0a-f1f8-75d2c2799b5d"
      },
      "source": [
        "data"
      ],
      "execution_count": 180,
      "outputs": [
        {
          "output_type": "execute_result",
          "data": {
            "text/plain": [
              "{'Cursando a graduação': 4,\n",
              " 'Ensino médio': 3,\n",
              " 'Graduado': 7,\n",
              " 'Pós graduado': 1,\n",
              " 'Sem ensino superior': 2}"
            ]
          },
          "metadata": {
            "tags": []
          },
          "execution_count": 180
        }
      ]
    },
    {
      "cell_type": "markdown",
      "metadata": {
        "id": "13n1zmGOEfWU"
      },
      "source": [
        "### Exibindo os dados"
      ]
    },
    {
      "cell_type": "code",
      "metadata": {
        "colab": {
          "base_uri": "https://localhost:8080/",
          "height": 155
        },
        "id": "ntIKV_Mn6MzE",
        "outputId": "cd80e67d-5dec-44ce-8bb6-832435cc36de"
      },
      "source": [
        "fig = plt.figure(\n",
        "    FigureClass=Waffle,\n",
        "    rows=4,\n",
        "    columns=12,\n",
        "    values=data,\n",
        "    title={'label': 'Formação acadêmica de programadores PHP', 'loc': 'center'},\n",
        "    legend={'loc': 'upper left', 'bbox_to_anchor': (1.1, 1.)},\n",
        "    labels=[\"{0}: {1}\".format(k, v) for k, v in data.items()],\n",
        "    )\n",
        "\n",
        "fig.set_tight_layout(False)\n",
        "plt.show()"
      ],
      "execution_count": 213,
      "outputs": [
        {
          "output_type": "display_data",
          "data": {
            "image/png": "[encoded data removed]",
            "text/plain": [
              "<Waffle size 432x288 with 1 Axes>"
            ]
          },
          "metadata": {
            "tags": [],
            "needs_background": "light"
          }
        }
      ]
    }
  ]
}
