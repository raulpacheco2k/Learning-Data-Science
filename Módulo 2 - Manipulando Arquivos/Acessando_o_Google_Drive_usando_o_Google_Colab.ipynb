{
  "nbformat": 4,
  "nbformat_minor": 0,
  "metadata": {
    "colab": {
      "name": "Acessando o Google Drive usando o Google Colab.ipynb",
      "provenance": [],
      "mount_file_id": "14WmnhUSTtflKLbPuEPYGtf5LQPRrWMlN",
      "authorship_tag": "ABX9TyMXY19E/uzp5iCSYSLjexdz",
      "include_colab_link": true
    },
    "kernelspec": {
      "name": "python3",
      "display_name": "Python 3"
    },
    "language_info": {
      "name": "python"
    }
  },
  "cells": [
    {
      "cell_type": "markdown",
      "metadata": {
        "id": "view-in-github",
        "colab_type": "text"
      },
      "source": [
        "<a href=\"https://colab.research.google.com/github/raulpacheco2k/Learning-Data-Science/blob/main/Acessando_o_Google_Drive_usando_o_Google_Colab.ipynb\" target=\"_parent\"><img src=\"https://colab.research.google.com/assets/colab-badge.svg\" alt=\"Open In Colab\"/></a>"
      ]
    },
    {
      "cell_type": "markdown",
      "metadata": {
        "id": "YgTnW10hCjNv"
      },
      "source": [
        "A Google nos oferece um ecossistema naturalmente incrível e com o Google Colab isso não seria diferente. Usando a plataforma do Colab a Google nos oferece algumas facilidades, com algumas linhas de códigos conseguimos ter acesso diretamente aos nossos arquivos no Google Drive, isso não oferece um leque incrível de oportunidades que podemos fazer.\n",
        "\n",
        "Como já dito, a Google oferece \"algumas\" comodidades e desta vez é um pacote que facilita a nossa vida ao precisar acessar os arquivos do Google Drive. Temos uma biblioteca que nos auxilia nesta função, que é a biblioteca `google.colab`, com está biblioteca conseguimos interagir com nosso Google Drive de maneira simplificada."
      ]
    },
    {
      "cell_type": "markdown",
      "metadata": {
        "id": "HQxdMc_FErBj"
      },
      "source": [
        "Utilizaremos o comando abaixo para importar o pacote `drive` da biblioteca `google.colab`. \n",
        "\n",
        "Para simplificar o que estamos fazendo podemos imaginar que o Brasil é nossa biblioteca e Santa Catarina fosse nosso pacote, então falamos ao computador: \"Na biblioteca word.brazil, me retorna o pacote santacatarina dentro deste arquivo que em algum momento eu iria precisar utilizar esse pacote\"."
      ]
    },
    {
      "cell_type": "code",
      "metadata": {
        "id": "mPvAhs2T-EWQ"
      },
      "source": [
        "from google.colab import drive"
      ],
      "execution_count": 16,
      "outputs": []
    },
    {
      "cell_type": "markdown",
      "metadata": {
        "id": "LROeQc0KGG7S"
      },
      "source": [
        "Bem, chegou o momento que utilizaremos nosso pacote que importamos no comando anterior, no nosso pacote existem algumas funções, entre elas a função `mount`, esta função importa todos os arquivos do nosso Google Drive para máquina, vale ressaltar que os arquivos são sincronizamos em tempo real, assim como acontece normalmente nos demais cenários em que utilizamos o Google Drive. A função `mount` contém um parâmetro obrigatório, o mountpoint ou ponto de montagem, para esse parâmetro passaremos o caminho do nosso sistema onde queremos que nosso Google Drive armazene nossos arquivos, por convenção utilizamos a pasta `/content/gdrive`."
      ]
    },
    {
      "cell_type": "code",
      "metadata": {
        "colab": {
          "base_uri": "https://localhost:8080/"
        },
        "id": "0-bQrQTk-Lif",
        "outputId": "9a3df8d2-ba15-46e9-c47f-aa709847c5b1"
      },
      "source": [
        "drive.mount('/content/gdrive')"
      ],
      "execution_count": 17,
      "outputs": [
        {
          "output_type": "stream",
          "text": [
            "Mounted at /content/gdrive\n"
          ],
          "name": "stdout"
        }
      ]
    },
    {
      "cell_type": "markdown",
      "metadata": {
        "id": "aLgqsAmMH1lZ"
      },
      "source": [
        "Chamado a função `mount` do pacote `drive` e passado o caminho que desejamos que nossos arquivos sejam armazenados de sincronizados, já temos acesso total a eles e quando digo acesso total me refiro a leitura, escrita e exclusão do arquivo. Ou seja, devemos desenvolver nossos scripts com cautela, pois pode acarretar a exclusão de um arquivo importante."
      ]
    },
    {
      "cell_type": "markdown",
      "metadata": {
        "id": "v9Ot5zjYIddb"
      },
      "source": [
        "Para quem já está familiarizado com o Linux irá compreender o que está acontecendo na linha abaixo. o comando `ls` é derivado das primeiras consoantes da palavra list, ou seja, estaremos listando algo. Perceba que ainda passamos o argumento `-la`: \n",
        "\n",
        "* l : listar permissões, número de entidades (se for diretório, mostra a quantidade de subdiretórios existentes dentro dele), dono, grupo, tamanho do arquivo, data e hora da última atualização e o nome do arquivo.\n",
        "* a : listar todos os arquivos do diretório (inclusive os arquivos ocultos).\n",
        "\n",
        "E por final passaremos o que queremos listar, repare que passamos o mesmo caminho que utilizamos para montar nosso Google Drive, ou seja, nossa intenção é saber todos os arquivos que foram sincronizados. \n",
        "\n",
        "Agora já temos acesso completo a todos os arquivos do Google Drive utilizando o Google Colab.\n",
        " "
      ]
    },
    {
      "cell_type": "code",
      "metadata": {
        "colab": {
          "base_uri": "https://localhost:8080/"
        },
        "id": "8ZrNBKN_AZI7",
        "outputId": "014b5df9-bada-41f6-b07d-cd8991126277"
      },
      "source": [
        "ls -la gdrive/MyDrive/"
      ],
      "execution_count": null,
      "outputs": [
        {
          "output_type": "stream",
          "text": [
            "total 74\n",
            "drwx------ 2 root root  4096 Sep  8  2020 \u001b[0m\u001b[01;34m'Colab Notebooks'\u001b[0m/\n",
            "-rw------- 1 root root 14631 Jun 27 03:22  controle_da_empresa.xlsx\n",
            "-rw------- 1 root root 33635 Jun 12 00:01  curriculo.pdf\n",
            "-rw------- 1 root root 21441 Apr 13 11:26  historico_202010005523.pdf\n",
            "-rw------- 1 root root   896 Jun 10 23:36  IFSC\n"
          ],
          "name": "stdout"
        }
      ]
    }
  ]
}