{
  "nbformat": 4,
  "nbformat_minor": 0,
  "metadata": {
    "colab": {
      "name": "Identificando valores duplicados.ipynb",
      "provenance": [],
      "authorship_tag": "ABX9TyOL8MzomHVc3jGllqHUS8A/",
      "include_colab_link": true
    },
    "kernelspec": {
      "name": "python3",
      "display_name": "Python 3"
    },
    "language_info": {
      "name": "python"
    }
  },
  "cells": [
    {
      "cell_type": "markdown",
      "metadata": {
        "id": "view-in-github",
        "colab_type": "text"
      },
      "source": [
        "<a href=\"https://colab.research.google.com/github/raulpacheco2k/Sigmoidal-Python-Do-Zero/blob/main/Identificando_valores_duplicados.ipynb\" target=\"_parent\"><img src=\"https://colab.research.google.com/assets/colab-badge.svg\" alt=\"Open In Colab\"/></a>"
      ]
    },
    {
      "cell_type": "code",
      "metadata": {
        "id": "t1u3lAcDEaav"
      },
      "source": [
        "import pandas as pd"
      ],
      "execution_count": 1,
      "outputs": []
    },
    {
      "cell_type": "code",
      "metadata": {
        "id": "oqa5oU1uEw4E"
      },
      "source": [
        "df = pd.read_excel('/content/contas_a_pagar.xlsx')"
      ],
      "execution_count": 37,
      "outputs": []
    },
    {
      "cell_type": "code",
      "metadata": {
        "colab": {
          "base_uri": "https://localhost:8080/",
          "height": 204
        },
        "id": "Ikl6poYcE2LY",
        "outputId": "3472c931-6de8-47a9-d372-8b542e5e7044"
      },
      "source": [
        "df.head()"
      ],
      "execution_count": 38,
      "outputs": [
        {
          "output_type": "execute_result",
          "data": {
            "text/html": [
              "<div>\n",
              "<style scoped>\n",
              "    .dataframe tbody tr th:only-of-type {\n",
              "        vertical-align: middle;\n",
              "    }\n",
              "\n",
              "    .dataframe tbody tr th {\n",
              "        vertical-align: top;\n",
              "    }\n",
              "\n",
              "    .dataframe thead th {\n",
              "        text-align: right;\n",
              "    }\n",
              "</style>\n",
              "<table border=\"1\" class=\"dataframe\">\n",
              "  <thead>\n",
              "    <tr style=\"text-align: right;\">\n",
              "      <th></th>\n",
              "      <th>pagamento</th>\n",
              "      <th>valor</th>\n",
              "      <th>codigo_pagamento</th>\n",
              "    </tr>\n",
              "  </thead>\n",
              "  <tbody>\n",
              "    <tr>\n",
              "      <th>0</th>\n",
              "      <td>imposto x</td>\n",
              "      <td>458.86</td>\n",
              "      <td>123456789012</td>\n",
              "    </tr>\n",
              "    <tr>\n",
              "      <th>1</th>\n",
              "      <td>imposto y</td>\n",
              "      <td>467.69</td>\n",
              "      <td>123456789012</td>\n",
              "    </tr>\n",
              "    <tr>\n",
              "      <th>2</th>\n",
              "      <td>imposto z</td>\n",
              "      <td>25.15</td>\n",
              "      <td>555444332221</td>\n",
              "    </tr>\n",
              "    <tr>\n",
              "      <th>3</th>\n",
              "      <td>agua</td>\n",
              "      <td>951.31</td>\n",
              "      <td>568754456745</td>\n",
              "    </tr>\n",
              "    <tr>\n",
              "      <th>4</th>\n",
              "      <td>luz</td>\n",
              "      <td>1548.25</td>\n",
              "      <td>546982454523</td>\n",
              "    </tr>\n",
              "  </tbody>\n",
              "</table>\n",
              "</div>"
            ],
            "text/plain": [
              "   pagamento    valor  codigo_pagamento\n",
              "0  imposto x   458.86      123456789012\n",
              "1  imposto y   467.69      123456789012\n",
              "2  imposto z    25.15      555444332221\n",
              "3       agua   951.31      568754456745\n",
              "4        luz  1548.25      546982454523"
            ]
          },
          "metadata": {
            "tags": []
          },
          "execution_count": 38
        }
      ]
    },
    {
      "cell_type": "code",
      "metadata": {
        "colab": {
          "base_uri": "https://localhost:8080/"
        },
        "id": "eQS1wOnLHlGL",
        "outputId": "1e9d9f19-2621-4167-86be-2bf2ad189c3a"
      },
      "source": [
        "print(f\"Quantida de linhas: {df.shape[0]}\")"
      ],
      "execution_count": 39,
      "outputs": [
        {
          "output_type": "stream",
          "text": [
            "Quantida de linhas: 9\n"
          ],
          "name": "stdout"
        }
      ]
    },
    {
      "cell_type": "code",
      "metadata": {
        "colab": {
          "base_uri": "https://localhost:8080/"
        },
        "id": "zeGtIB4zH4fD",
        "outputId": "b52569b8-dfac-477d-dba7-9183fe771a94"
      },
      "source": [
        "df['codigo_pagamento'].value_counts()"
      ],
      "execution_count": 40,
      "outputs": [
        {
          "output_type": "execute_result",
          "data": {
            "text/plain": [
              "546982454123    2\n",
              "123456789012    2\n",
              "546982454523    2\n",
              "555444332221    1\n",
              "568754456745    1\n",
              "364821542215    1\n",
              "Name: codigo_pagamento, dtype: int64"
            ]
          },
          "metadata": {
            "tags": []
          },
          "execution_count": 40
        }
      ]
    },
    {
      "cell_type": "code",
      "metadata": {
        "colab": {
          "base_uri": "https://localhost:8080/"
        },
        "id": "a9PruxQlFEio",
        "outputId": "69f19609-5f62-4316-ef69-70e34e1fae84"
      },
      "source": [
        "df.duplicated()"
      ],
      "execution_count": 41,
      "outputs": [
        {
          "output_type": "execute_result",
          "data": {
            "text/plain": [
              "0    False\n",
              "1    False\n",
              "2    False\n",
              "3    False\n",
              "4    False\n",
              "5    False\n",
              "6    False\n",
              "7     True\n",
              "8    False\n",
              "dtype: bool"
            ]
          },
          "metadata": {
            "tags": []
          },
          "execution_count": 41
        }
      ]
    },
    {
      "cell_type": "code",
      "metadata": {
        "colab": {
          "base_uri": "https://localhost:8080/"
        },
        "id": "DUrmy9MrGJuC",
        "outputId": "ef382e0b-42d9-4df4-9521-424822cd313a"
      },
      "source": [
        "df.duplicated(subset='codigo_pagamento')"
      ],
      "execution_count": 42,
      "outputs": [
        {
          "output_type": "execute_result",
          "data": {
            "text/plain": [
              "0    False\n",
              "1     True\n",
              "2    False\n",
              "3    False\n",
              "4    False\n",
              "5    False\n",
              "6    False\n",
              "7     True\n",
              "8     True\n",
              "dtype: bool"
            ]
          },
          "metadata": {
            "tags": []
          },
          "execution_count": 42
        }
      ]
    },
    {
      "cell_type": "code",
      "metadata": {
        "id": "Lp0SfjoLGGKK"
      },
      "source": [
        "df.drop_duplicates(subset='codigo_pagamento', inplace=True)"
      ],
      "execution_count": 43,
      "outputs": []
    },
    {
      "cell_type": "code",
      "metadata": {
        "colab": {
          "base_uri": "https://localhost:8080/"
        },
        "id": "r8-Y3yS9HLIA",
        "outputId": "c38c4e55-c8f6-4a29-aac1-0aaabe2a811b"
      },
      "source": [
        "print(f\"Quantida de linhas: {df.shape[0]}\")"
      ],
      "execution_count": 44,
      "outputs": [
        {
          "output_type": "stream",
          "text": [
            "Quantida de linhas: 6\n"
          ],
          "name": "stdout"
        }
      ]
    },
    {
      "cell_type": "code",
      "metadata": {
        "colab": {
          "base_uri": "https://localhost:8080/"
        },
        "id": "irOpyvZRIDMR",
        "outputId": "8ca58954-8c76-41a8-c07c-e04b1c7ca78e"
      },
      "source": [
        "df['codigo_pagamento'].value_counts()"
      ],
      "execution_count": 45,
      "outputs": [
        {
          "output_type": "execute_result",
          "data": {
            "text/plain": [
              "364821542215    1\n",
              "555444332221    1\n",
              "546982454523    1\n",
              "568754456745    1\n",
              "123456789012    1\n",
              "546982454123    1\n",
              "Name: codigo_pagamento, dtype: int64"
            ]
          },
          "metadata": {
            "tags": []
          },
          "execution_count": 45
        }
      ]
    }
  ]
}
