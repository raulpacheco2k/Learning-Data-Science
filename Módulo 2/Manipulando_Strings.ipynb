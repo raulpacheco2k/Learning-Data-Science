{
  "nbformat": 4,
  "nbformat_minor": 0,
  "metadata": {
    "colab": {
      "name": "Manipulando Strings.ipynb",
      "provenance": [],
      "authorship_tag": "ABX9TyMNw9GZzRoM6ppGXnwv4/go",
      "include_colab_link": true
    },
    "kernelspec": {
      "name": "python3",
      "display_name": "Python 3"
    },
    "language_info": {
      "name": "python"
    }
  },
  "cells": [
    {
      "cell_type": "markdown",
      "metadata": {
        "id": "view-in-github",
        "colab_type": "text"
      },
      "source": [
        "<a href=\"https://colab.research.google.com/github/raulpacheco2k/Sigmoidal-Python-Do-Zero/blob/main/Manipulando_Strings.ipynb\" target=\"_parent\"><img src=\"https://colab.research.google.com/assets/colab-badge.svg\" alt=\"Open In Colab\"/></a>"
      ]
    },
    {
      "cell_type": "markdown",
      "metadata": {
        "id": "GmV2NsD3qSv1"
      },
      "source": [
        "# Manipulando Strings\n",
        "\n",
        "1. type\n",
        "1. len()\n",
        "1. split()\n",
        "1. replace()\n",
        "1. strip()\n",
        "1. slicing()\n",
        "1. Capitalize()\n",
        "1. lower()\n",
        "1. Upper()\n",
        "1. title()\n",
        "1. swapcase()"
      ]
    },
    {
      "cell_type": "code",
      "metadata": {
        "colab": {
          "base_uri": "https://localhost:8080/"
        },
        "id": "dN6oXc0jqcsW",
        "outputId": "f152e21a-9d38-4231-ac33-ffc9cf114b6b"
      },
      "source": [
        "frase = \"Olá, meu nome é Raul Pacheco, tenho 21 anos e trabalho na área de tester de software.\"\n",
        "frases = frase.split(',')\n",
        "for frase in frases:\n",
        "  print((frase + '.' if frase[-1] != '.' else frase).strip().capitalize())"
      ],
      "execution_count": 24,
      "outputs": [
        {
          "output_type": "stream",
          "text": [
            "Olá.\n",
            "Meu nome é raul pacheco.\n",
            "Tenho 21 anos e trabalho na área de tester de software.\n"
          ],
          "name": "stdout"
        }
      ]
    }
  ]
}