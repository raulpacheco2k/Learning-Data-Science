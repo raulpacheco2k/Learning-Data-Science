{
  "nbformat": 4,
  "nbformat_minor": 0,
  "metadata": {
    "colab": {
      "name": "Introdução a biblioteca OS.ipynb",
      "provenance": [],
      "authorship_tag": "ABX9TyOxrP8V5ZdqIeInJZPdAxyd",
      "include_colab_link": true
    },
    "kernelspec": {
      "name": "python3",
      "display_name": "Python 3"
    },
    "language_info": {
      "name": "python"
    }
  },
  "cells": [
    {
      "cell_type": "markdown",
      "metadata": {
        "id": "view-in-github",
        "colab_type": "text"
      },
      "source": [
        "<a href=\"https://colab.research.google.com/github/raulpacheco2k/Sigmoidal-Python-Do-Zero/blob/main/Introdu%C3%A7%C3%A3o_a_biblioteca_OS.ipynb\" target=\"_parent\"><img src=\"https://colab.research.google.com/assets/colab-badge.svg\" alt=\"Open In Colab\"/></a>"
      ]
    },
    {
      "cell_type": "markdown",
      "metadata": {
        "id": "-yrm46HtK4pK"
      },
      "source": [
        "# Introdução a biblioteca OS\n",
        "\n",
        "A biblioteca padrão OS do Python nos permite manipular os diretórios do Linux através de algumas funções, essas nos permite criar, remover, listar, abrir pastas e visualizar nosso diretório atual."
      ]
    },
    {
      "cell_type": "markdown",
      "metadata": {
        "id": "SlG2uHKcOmTu"
      },
      "source": [
        "Para começar a usar a biblioteca teremos que importá-la."
      ]
    },
    {
      "cell_type": "code",
      "metadata": {
        "id": "PUv9dFUoKJC0"
      },
      "source": [
        "import os"
      ],
      "execution_count": 1,
      "outputs": []
    },
    {
      "cell_type": "markdown",
      "metadata": {
        "id": "Dr-dt-FCPFyh"
      },
      "source": [
        "Para visualizar nosso diretório atual, podemos usar a função `get_cwd()` que ira retornar a nossa localização atual."
      ]
    },
    {
      "cell_type": "code",
      "metadata": {
        "colab": {
          "base_uri": "https://localhost:8080/",
          "height": 35
        },
        "id": "s5LtRIbhKOxa",
        "outputId": "67296a6b-8b57-46ee-90bc-30030dd1bb95"
      },
      "source": [
        "os.getcwd()"
      ],
      "execution_count": 2,
      "outputs": [
        {
          "output_type": "execute_result",
          "data": {
            "application/vnd.google.colaboratory.intrinsic+json": {
              "type": "string"
            },
            "text/plain": [
              "'/content'"
            ]
          },
          "metadata": {
            "tags": []
          },
          "execution_count": 2
        }
      ]
    },
    {
      "cell_type": "markdown",
      "metadata": {
        "id": "S5zm1nbYPJuM"
      },
      "source": [
        "Para criar uma pasta utilizaremos a função `mkdir` e passaremos para ela um argumento, este deve ser o nome da nossa pasta."
      ]
    },
    {
      "cell_type": "code",
      "metadata": {
        "id": "O5CtBW00PXAS"
      },
      "source": [
        "os.mkdir('biblioteca_os')"
      ],
      "execution_count": 3,
      "outputs": []
    },
    {
      "cell_type": "markdown",
      "metadata": {
        "id": "E3mCeA95PbN6"
      },
      "source": [
        "Para visualizar nossa pasta recém-criada utilizaremos a função `listdir()` que listará todos os nossos diretórios dentro da nossa pasta. \n",
        "\n",
        "Perceba que teremos, além da nossa pasta criada, outros dois item na nossa lista, um arquivo e uma pasta, esses dois itens são criados automaticamente pelo Google Colab."
      ]
    },
    {
      "cell_type": "code",
      "metadata": {
        "colab": {
          "base_uri": "https://localhost:8080/"
        },
        "id": "Zl1LZiHVLbuC",
        "outputId": "150e276d-a09a-49b5-a652-3d8feb55c0f8"
      },
      "source": [
        "os.listdir()"
      ],
      "execution_count": 4,
      "outputs": [
        {
          "output_type": "execute_result",
          "data": {
            "text/plain": [
              "['.config', 'biblioteca_os', 'sample_data']"
            ]
          },
          "metadata": {
            "tags": []
          },
          "execution_count": 4
        }
      ]
    },
    {
      "cell_type": "markdown",
      "metadata": {
        "id": "j5_Aaa97QTRz"
      },
      "source": [
        "Para abrir uma pasta utilizaremos a função `chdir` e passaremos para ela o nome da pasta que desejamos abrir. Abriremos a pasta criada por nós. Repare que passaremos não só o nome da nossa pasta, mas, também o diretório inteiro, caso passemos somente o nome da pasta uma exceção será disparada."
      ]
    },
    {
      "cell_type": "code",
      "metadata": {
        "id": "a1r-5VsnLJb8"
      },
      "source": [
        "os.chdir('/content/biblioteca_os')"
      ],
      "execution_count": 5,
      "outputs": []
    },
    {
      "cell_type": "markdown",
      "metadata": {
        "id": "RZa7cET7RE0k"
      },
      "source": [
        "Podemos validar a pasta que estamos utilizando novamente a função `getcwd` e veremos que estamos de acordo com o argumento passado para a função `chdir`."
      ]
    },
    {
      "cell_type": "code",
      "metadata": {
        "colab": {
          "base_uri": "https://localhost:8080/",
          "height": 35
        },
        "id": "nqKQwYzjLM0b",
        "outputId": "2ab143b2-ec8e-4d43-adbf-9c818412ab43"
      },
      "source": [
        "os.getcwd()"
      ],
      "execution_count": 6,
      "outputs": [
        {
          "output_type": "execute_result",
          "data": {
            "application/vnd.google.colaboratory.intrinsic+json": {
              "type": "string"
            },
            "text/plain": [
              "'/content/biblioteca_os'"
            ]
          },
          "metadata": {
            "tags": []
          },
          "execution_count": 6
        }
      ]
    },
    {
      "cell_type": "markdown",
      "metadata": {
        "id": "glHhok11RRDj"
      },
      "source": [
        "Agora iremos abrir a pasta que o Google Colab cria automaticamente, faremos isso para apresentar a função `listdir` que mostra os arquivos no diretório atual."
      ]
    },
    {
      "cell_type": "code",
      "metadata": {
        "colab": {
          "base_uri": "https://localhost:8080/"
        },
        "id": "iuU9wtNkLiuC",
        "outputId": "d29dbb2b-c0f2-4649-bbf4-8492e59647cb"
      },
      "source": [
        "os.chdir('/content/sample_data')\n",
        "os.listdir()"
      ],
      "execution_count": 7,
      "outputs": [
        {
          "output_type": "execute_result",
          "data": {
            "text/plain": [
              "['README.md',\n",
              " 'anscombe.json',\n",
              " 'mnist_test.csv',\n",
              " 'california_housing_train.csv',\n",
              " 'california_housing_test.csv',\n",
              " 'mnist_train_small.csv']"
            ]
          },
          "metadata": {
            "tags": []
          },
          "execution_count": 7
        }
      ]
    },
    {
      "cell_type": "markdown",
      "metadata": {
        "id": "iNVEgNylc_WY"
      },
      "source": [
        "E além de todas as praticidades já apresentadas, ainda podemos renomear um arquivo através da função `rename()`."
      ]
    },
    {
      "cell_type": "code",
      "metadata": {
        "id": "uXuMgB78dKEJ",
        "outputId": "ae26735a-1445-4e1f-bddb-4d47869b97ba",
        "colab": {
          "base_uri": "https://localhost:8080/"
        }
      },
      "source": [
        "os.rename('mnist_test.csv', 'outro_nome.csv')\n",
        "os.listdir()"
      ],
      "execution_count": 8,
      "outputs": [
        {
          "output_type": "execute_result",
          "data": {
            "text/plain": [
              "['README.md',\n",
              " 'anscombe.json',\n",
              " 'outro_nome.csv',\n",
              " 'california_housing_train.csv',\n",
              " 'california_housing_test.csv',\n",
              " 'mnist_train_small.csv']"
            ]
          },
          "metadata": {
            "tags": []
          },
          "execution_count": 8
        }
      ]
    },
    {
      "cell_type": "markdown",
      "metadata": {
        "id": "NhxSY9FodhIN"
      },
      "source": [
        "E podemos visualizar o arquivo que antes se chamava *mnist_test.csv* com o nome de `outro_nome.csv`."
      ]
    },
    {
      "cell_type": "code",
      "metadata": {
        "id": "v-eNWoZodsue",
        "outputId": "bab9645e-21ab-4a60-b12e-c7d2c8211f06",
        "colab": {
          "base_uri": "https://localhost:8080/",
          "height": 35
        }
      },
      "source": [
        "os.listdir()[2]"
      ],
      "execution_count": 9,
      "outputs": [
        {
          "output_type": "execute_result",
          "data": {
            "application/vnd.google.colaboratory.intrinsic+json": {
              "type": "string"
            },
            "text/plain": [
              "'outro_nome.csv'"
            ]
          },
          "metadata": {
            "tags": []
          },
          "execution_count": 9
        }
      ]
    }
  ]
}